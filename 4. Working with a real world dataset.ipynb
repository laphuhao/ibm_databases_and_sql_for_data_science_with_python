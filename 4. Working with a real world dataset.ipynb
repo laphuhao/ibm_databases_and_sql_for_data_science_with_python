{
 "cells": [
  {
   "cell_type": "markdown",
   "metadata": {},
   "source": [
    "<center>\n",
    "    <img src=\"https://cf-courses-data.s3.us.cloud-object-storage.appdomain.cloud/IBMDeveloperSkillsNetwork-DB0201EN-SkillsNetwork/labs/FinalModule_Coursera_V5/images/SN_web_lightmode.png\" width=\"300\" alt=\"cognitiveclass.ai logo\">\n",
    "</center>\n",
    "\n",
    "# Working with a real world data-set using SQL and Python\n",
    "\n",
    "Estaimted time needed: **30** minutes\n",
    "\n",
    "## Objectives\n",
    "\n",
    "After completing this lab you will be able to:\n",
    "\n",
    "*   Understand the dataset for Chicago Public School level performance\n",
    "*   Store the dataset in SQLite database.\n",
    "*   Retrieve metadata about tables and columns and query data from mixed case columns\n",
    "*   Solve example problems to practice your SQL skills including using built-in database functions\n"
   ]
  },
  {
   "cell_type": "markdown",
   "metadata": {},
   "source": [
    "## Chicago Public Schools - Progress Report Cards (2011-2012)\n",
    "\n",
    "The city of Chicago released a dataset showing all school level performance data used to create School Report Cards for the 2011-2012 school year. The dataset is available from the Chicago Data Portal: [https://data.cityofchicago.org/Education/Chicago-Public-Schools-Progress-Report-Cards-2011-/9xs2-f89t](https://data.cityofchicago.org/Education/Chicago-Public-Schools-Progress-Report-Cards-2011-/9xs2-f89t?utm_medium=Exinfluencer&utm_source=Exinfluencer&utm_content=000026UJ&utm_term=10006555&utm_id=NA-SkillsNetwork-Channel-SkillsNetworkCoursesIBMDeveloperSkillsNetworkDB0201ENSkillsNetwork20127838-2021-01-01&cm_mmc=Email_Newsletter-_-Developer_Ed%2BTech-_-WW_WW-_-SkillsNetwork-Courses-IBMDeveloperSkillsNetwork-DB0201EN-SkillsNetwork-20127838&cm_mmca1=000026UJ&cm_mmca2=10006555&cm_mmca3=M12345678&cvosrc=email.Newsletter.M12345678&cvo_campaign=000026UJ)\n",
    "\n",
    "This dataset includes a large number of metrics. Start by familiarizing yourself with the types of metrics in the database: [https://data.cityofchicago.org/api/assets/AAD41A13-BE8A-4E67-B1F5-86E711E09D5F?download=true](https://data.cityofchicago.org/api/assets/AAD41A13-BE8A-4E67-B1F5-86E711E09D5F?utm_medium=Exinfluencer&utm_source=Exinfluencer&utm_content=000026UJ&utm_term=10006555&utm_id=NA-SkillsNetwork-Channel-SkillsNetworkCoursesIBMDeveloperSkillsNetworkDB0201ENSkillsNetwork20127838-2021-01-01&download=true&cm_mmc=Email_Newsletter-_-Developer_Ed%2BTech-_-WW_WW-_-SkillsNetwork-Courses-IBMDeveloperSkillsNetwork-DB0201EN-SkillsNetwork-20127838&cm_mmca1=000026UJ&cm_mmca2=10006555&cm_mmca3=M12345678&cvosrc=email.Newsletter.M12345678&cvo_campaign=000026UJ)\n",
    "\n",
    "**NOTE**:\n",
    "\n",
    "Do not download the dataset directly from City of Chicago portal. Instead download a static copy which is a more database friendly version from this <a href=\"https://cf-courses-data.s3.us.cloud-object-storage.appdomain.cloud/IBMDeveloperSkillsNetwork-DB0201EN-SkillsNetwork/labs/FinalModule_Coursera_V5/data/ChicagoPublicSchools.csv?utm_medium=Exinfluencer&utm_source=Exinfluencer&utm_content=000026UJ&utm_term=10006555&utm_id=NA-SkillsNetwork-Channel-SkillsNetworkCoursesIBMDeveloperSkillsNetworkDB0201ENSkillsNetwork20127838-2021-01-01\">link</a>.\n",
    "\n",
    "Now review some of its contents.\n"
   ]
  },
  {
   "cell_type": "markdown",
   "metadata": {},
   "source": [
    "### Connect to the database\n",
    "\n",
    "Let us now load the ipython-sql  extension and establish a connection with the database\n",
    "\n",
    "##### The syntax for connecting to magic sql using sqllite is\n",
    "\n",
    "  **%sql sqlite://DatabaseName**   \n",
    "  \n",
    "where DatabaseName will be your **.db** file \n"
   ]
  },
  {
   "cell_type": "code",
   "execution_count": 1,
   "metadata": {},
   "outputs": [],
   "source": [
    "import csv, sqlite3\n",
    "\n",
    "con = sqlite3.connect(\"RealWorldData.db\")\n",
    "cur = con.cursor()"
   ]
  },
  {
   "cell_type": "code",
   "execution_count": 2,
   "metadata": {},
   "outputs": [],
   "source": [
    "#!pip install -q pandas==1.1.5"
   ]
  },
  {
   "cell_type": "code",
   "execution_count": 3,
   "metadata": {},
   "outputs": [],
   "source": [
    "%load_ext sql"
   ]
  },
  {
   "cell_type": "code",
   "execution_count": 4,
   "metadata": {},
   "outputs": [
    {
     "data": {
      "text/html": [
       "<span style=\"None\">Connecting to &#x27;sqlite:///RealWorldData.db&#x27;</span>"
      ],
      "text/plain": [
       "Connecting to 'sqlite:///RealWorldData.db'"
      ]
     },
     "metadata": {},
     "output_type": "display_data"
    }
   ],
   "source": [
    "%sql sqlite:///RealWorldData.db"
   ]
  },
  {
   "cell_type": "markdown",
   "metadata": {},
   "source": [
    "### Store the dataset in a Table\n",
    "\n",
    "##### In many cases the dataset to be analyzed is available as a .CSV (comma separated values) file, perhaps on the internet. To analyze the data \n",
    "##### using SQL, it first needs to be stored in the database.\n",
    "\n",
    "##### We will first read the csv files  from the given url  into pandas dataframes\n",
    "\n",
    "##### Next we will be using the  df.to_sql() function to convert each csv file  to a table in sqlite  with the csv data loaded in it.\n"
   ]
  },
  {
   "cell_type": "code",
   "execution_count": 5,
   "metadata": {},
   "outputs": [
    {
     "data": {
      "text/plain": [
       "566"
      ]
     },
     "execution_count": 5,
     "metadata": {},
     "output_type": "execute_result"
    }
   ],
   "source": [
    "import pandas as pd\n",
    "\n",
    "df = pd.read_csv(\"https://cf-courses-data.s3.us.cloud-object-storage.appdomain.cloud/IBMDeveloperSkillsNetwork-DB0201EN-SkillsNetwork/labs/FinalModule_Coursera_V5/data/ChicagoCensusData.csv\")\n",
    "df.to_sql(\"CENSUS_DATA\", con, if_exists='replace', index=False, method=\"multi\")\n",
    "\n",
    "df = pd.read_csv(\"https://cf-courses-data.s3.us.cloud-object-storage.appdomain.cloud/IBMDeveloperSkillsNetwork-DB0201EN-SkillsNetwork/labs/FinalModule_Coursera_V5/data/ChicagoCrimeData.csv\")\n",
    "df.to_sql(\"CHICAGO_CRIME_DATA\", con, if_exists='replace', index=False, method=\"multi\")\n",
    "\n",
    "df = pd.read_csv(\"https://cf-courses-data.s3.us.cloud-object-storage.appdomain.cloud/IBMDeveloperSkillsNetwork-DB0201EN-SkillsNetwork/labs/FinalModule_Coursera_V5/data/ChicagoPublicSchools.csv\")\n",
    "df.to_sql(\"CHICAGO_PUBLIC_SCHOOLS_DATA\", con, if_exists='replace', index=False, method=\"multi\")"
   ]
  },
  {
   "cell_type": "markdown",
   "metadata": {},
   "source": [
    "Double-click **here** for the solution.\n",
    "<!--\n",
    "\n",
    "import pandas\n",
    "df = pandas.read_csv(\"https://cf-courses-data.s3.us.cloud-object-storage.appdomain.cloud/IBMDeveloperSkillsNetwork-DB0201EN-SkillsNetwork/labs/FinalModule_Coursera_V5/data/ChicagoCensusData.csv\")\n",
    "df.to_sql(\"CENSUS_DATA\", con, if_exists='replace', index=False,method=\"multi\")\n",
    "\n",
    "df = pandas.read_csv(\"https://cf-courses-data.s3.us.cloud-object-storage.appdomain.cloud/IBMDeveloperSkillsNetwork-DB0201EN-SkillsNetwork/labs/FinalModule_Coursera_V5/data/ChicagoCrimeData.csv\")\n",
    "df.to_sql(\"CHICAGO_CRIME_DATA\", con, if_exists='replace', index=False, method=\"multi\")\n",
    "\n",
    "df = pandas.read_csv(\"https://cf-courses-data.s3.us.cloud-object-storage.appdomain.cloud/IBMDeveloperSkillsNetwork-DB0201EN-SkillsNetwork/labs/FinalModule_Coursera_V5/data/ChicagoPublicSchools.csv\")\n",
    "df.to_sql(\"CHICAGO_PUBLIC_SCHOOLS_DATA\", con, if_exists='replace', index=False, method=\"multi\")\n",
    "\n",
    "-->\n"
   ]
  },
  {
   "cell_type": "markdown",
   "metadata": {},
   "source": [
    "### Query the database system catalog to retrieve table metadata\n",
    "\n",
    "##### You can verify that the table creation was successful by retrieving the list of all tables in your schema and checking whether the SCHOOLS table was created\n"
   ]
  },
  {
   "cell_type": "code",
   "execution_count": 6,
   "metadata": {},
   "outputs": [
    {
     "data": {
      "text/html": [
       "<span style=\"None\">Running query in &#x27;sqlite:///RealWorldData.db&#x27;</span>"
      ],
      "text/plain": [
       "Running query in 'sqlite:///RealWorldData.db'"
      ]
     },
     "metadata": {},
     "output_type": "display_data"
    },
    {
     "data": {
      "text/html": [
       "<table>\n",
       "    <thead>\n",
       "        <tr>\n",
       "            <th>name</th>\n",
       "        </tr>\n",
       "    </thead>\n",
       "    <tbody>\n",
       "        <tr>\n",
       "            <td>CENSUS_DATA</td>\n",
       "        </tr>\n",
       "        <tr>\n",
       "            <td>CHICAGO_CRIME_DATA</td>\n",
       "        </tr>\n",
       "        <tr>\n",
       "            <td>CHICAGO_PUBLIC_SCHOOLS_DATA</td>\n",
       "        </tr>\n",
       "    </tbody>\n",
       "</table>"
      ],
      "text/plain": [
       "+-----------------------------+\n",
       "|             name            |\n",
       "+-----------------------------+\n",
       "|         CENSUS_DATA         |\n",
       "|      CHICAGO_CRIME_DATA     |\n",
       "| CHICAGO_PUBLIC_SCHOOLS_DATA |\n",
       "+-----------------------------+"
      ]
     },
     "execution_count": 6,
     "metadata": {},
     "output_type": "execute_result"
    }
   ],
   "source": [
    "# type in your query to retrieve list of all tables in the database\n",
    "%sql SELECT name FROM sqlite_master WHERE type=\"table\""
   ]
  },
  {
   "cell_type": "markdown",
   "metadata": {},
   "source": [
    "Double-click **here** for a hint\n",
    "\n",
    "<!--\n",
    "In sqlite the system catalog table called sqlite_master contains the table metadata\n",
    "-->\n"
   ]
  },
  {
   "cell_type": "markdown",
   "metadata": {},
   "source": [
    "Double-click **here** for the solution.\n",
    "\n",
    "<!-- Solution using SQLite:\n",
    "\n",
    "%sql SELECT name FROM sqlite_master WHERE type='table'\n",
    "\n",
    "-->\n",
    "\n"
   ]
  },
  {
   "cell_type": "markdown",
   "metadata": {},
   "source": [
    "### Query the database system catalog to retrieve column metadata\n",
    "\n",
    "##### The SCHOOLS table contains a large number of columns. How many columns does this table have?\n"
   ]
  },
  {
   "cell_type": "code",
   "execution_count": 7,
   "metadata": {},
   "outputs": [
    {
     "data": {
      "text/html": [
       "<span style=\"None\">Running query in &#x27;sqlite:///RealWorldData.db&#x27;</span>"
      ],
      "text/plain": [
       "Running query in 'sqlite:///RealWorldData.db'"
      ]
     },
     "metadata": {},
     "output_type": "display_data"
    },
    {
     "data": {
      "text/html": [
       "<table>\n",
       "    <thead>\n",
       "        <tr>\n",
       "            <th>count(name)</th>\n",
       "        </tr>\n",
       "    </thead>\n",
       "    <tbody>\n",
       "        <tr>\n",
       "            <td>78</td>\n",
       "        </tr>\n",
       "    </tbody>\n",
       "</table>"
      ],
      "text/plain": [
       "+-------------+\n",
       "| count(name) |\n",
       "+-------------+\n",
       "|      78     |\n",
       "+-------------+"
      ]
     },
     "execution_count": 7,
     "metadata": {},
     "output_type": "execute_result"
    }
   ],
   "source": [
    "# type in your query to retrieve the number of columns in the SCHOOLS table\n",
    "%sql SELECT COUNT(name) FROM PRAGMA_TABLE_INFO(\"CHICAGO_PUBLIC_SCHOOLS_DATA\");"
   ]
  },
  {
   "cell_type": "markdown",
   "metadata": {},
   "source": [
    "Double-click **here** for the solution.\n",
    "\n",
    "<!-- Solution SQLite:\n",
    "%sql SELECT count(name) FROM PRAGMA_TABLE_INFO('CHICAGO_PUBLIC_SCHOOLS_DATA');\n",
    "\n",
    "-->\n",
    "\n",
    "\n"
   ]
  },
  {
   "cell_type": "markdown",
   "metadata": {},
   "source": [
    "Now retrieve the the list of columns in SCHOOLS table and their column type (datatype) and length.\n"
   ]
  },
  {
   "cell_type": "code",
   "execution_count": 8,
   "metadata": {},
   "outputs": [
    {
     "data": {
      "text/html": [
       "<span style=\"None\">Running query in &#x27;sqlite:///RealWorldData.db&#x27;</span>"
      ],
      "text/plain": [
       "Running query in 'sqlite:///RealWorldData.db'"
      ]
     },
     "metadata": {},
     "output_type": "display_data"
    },
    {
     "data": {
      "text/html": [
       "<table>\n",
       "    <thead>\n",
       "        <tr>\n",
       "            <th>name</th>\n",
       "            <th>type</th>\n",
       "            <th>length(type)</th>\n",
       "        </tr>\n",
       "    </thead>\n",
       "    <tbody>\n",
       "        <tr>\n",
       "            <td>School_ID</td>\n",
       "            <td>INTEGER</td>\n",
       "            <td>7</td>\n",
       "        </tr>\n",
       "        <tr>\n",
       "            <td>NAME_OF_SCHOOL</td>\n",
       "            <td>TEXT</td>\n",
       "            <td>4</td>\n",
       "        </tr>\n",
       "        <tr>\n",
       "            <td>Elementary, Middle, or High School</td>\n",
       "            <td>TEXT</td>\n",
       "            <td>4</td>\n",
       "        </tr>\n",
       "        <tr>\n",
       "            <td>Street_Address</td>\n",
       "            <td>TEXT</td>\n",
       "            <td>4</td>\n",
       "        </tr>\n",
       "        <tr>\n",
       "            <td>City</td>\n",
       "            <td>TEXT</td>\n",
       "            <td>4</td>\n",
       "        </tr>\n",
       "        <tr>\n",
       "            <td>State</td>\n",
       "            <td>TEXT</td>\n",
       "            <td>4</td>\n",
       "        </tr>\n",
       "        <tr>\n",
       "            <td>ZIP_Code</td>\n",
       "            <td>INTEGER</td>\n",
       "            <td>7</td>\n",
       "        </tr>\n",
       "        <tr>\n",
       "            <td>Phone_Number</td>\n",
       "            <td>TEXT</td>\n",
       "            <td>4</td>\n",
       "        </tr>\n",
       "        <tr>\n",
       "            <td>Link</td>\n",
       "            <td>TEXT</td>\n",
       "            <td>4</td>\n",
       "        </tr>\n",
       "        <tr>\n",
       "            <td>Network_Manager</td>\n",
       "            <td>TEXT</td>\n",
       "            <td>4</td>\n",
       "        </tr>\n",
       "    </tbody>\n",
       "</table>\n",
       "<span style=\"font-style:italic;text-align:center;\">Truncated to <a href=\"https://jupysql.ploomber.io/en/latest/api/configuration.html#displaylimit\">displaylimit</a> of 10.</span>"
      ],
      "text/plain": [
       "+------------------------------------+---------+--------------+\n",
       "|                name                |   type  | length(type) |\n",
       "+------------------------------------+---------+--------------+\n",
       "|             School_ID              | INTEGER |      7       |\n",
       "|           NAME_OF_SCHOOL           |   TEXT  |      4       |\n",
       "| Elementary, Middle, or High School |   TEXT  |      4       |\n",
       "|           Street_Address           |   TEXT  |      4       |\n",
       "|                City                |   TEXT  |      4       |\n",
       "|               State                |   TEXT  |      4       |\n",
       "|              ZIP_Code              | INTEGER |      7       |\n",
       "|            Phone_Number            |   TEXT  |      4       |\n",
       "|                Link                |   TEXT  |      4       |\n",
       "|          Network_Manager           |   TEXT  |      4       |\n",
       "+------------------------------------+---------+--------------+\n",
       "Truncated to displaylimit of 10."
      ]
     },
     "execution_count": 8,
     "metadata": {},
     "output_type": "execute_result"
    }
   ],
   "source": [
    "# type in your query to retrieve all column names in the SCHOOLS table along with their datatypes and length\n",
    "%sql SELECT name, type, length(type) FROM PRAGMA_TABLE_INFO(\"CHICAGO_PUBLIC_SCHOOLS_DATA\");"
   ]
  },
  {
   "cell_type": "markdown",
   "metadata": {},
   "source": [
    "Double-click **here** for the solution.\n",
    "\n",
    "<!-- Solution \n",
    "\n",
    "%sql SELECT name,type,length(type) FROM PRAGMA_TABLE_INFO('CHICAGO_PUBLIC_SCHOOLS_DATA');\n",
    "\n",
    "-->\n",
    "\n",
    "\n"
   ]
  },
  {
   "cell_type": "markdown",
   "metadata": {},
   "source": [
    "### Questions\n",
    "\n",
    "1.  Is the column name for the \"SCHOOL ID\" attribute in upper or mixed case?\n",
    "2.  What is the name of \"Community Area Name\" column in your table? Does it have spaces?\n",
    "3.  Are there any columns in whose names the spaces and parenthesis (round brackets) have been replaced by the underscore character \"\\_\"?\n"
   ]
  },
  {
   "cell_type": "markdown",
   "metadata": {},
   "source": [
    "## Problems\n",
    "\n",
    "### Problem 1\n",
    "\n",
    "##### How many Elementary Schools are in the dataset?\n"
   ]
  },
  {
   "cell_type": "code",
   "execution_count": 9,
   "metadata": {},
   "outputs": [
    {
     "data": {
      "text/html": [
       "<span style=\"None\">Running query in &#x27;sqlite:///RealWorldData.db&#x27;</span>"
      ],
      "text/plain": [
       "Running query in 'sqlite:///RealWorldData.db'"
      ]
     },
     "metadata": {},
     "output_type": "display_data"
    },
    {
     "data": {
      "text/html": [
       "<table>\n",
       "    <thead>\n",
       "        <tr>\n",
       "            <th>School_ID</th>\n",
       "            <th>NAME_OF_SCHOOL</th>\n",
       "            <th>Elementary, Middle, or High School</th>\n",
       "            <th>Street_Address</th>\n",
       "            <th>City</th>\n",
       "            <th>State</th>\n",
       "            <th>ZIP_Code</th>\n",
       "            <th>Phone_Number</th>\n",
       "            <th>Link</th>\n",
       "            <th>Network_Manager</th>\n",
       "            <th>Collaborative_Name</th>\n",
       "            <th>Adequate_Yearly_Progress_Made_</th>\n",
       "            <th>Track_Schedule</th>\n",
       "            <th>CPS_Performance_Policy_Status</th>\n",
       "            <th>CPS_Performance_Policy_Level</th>\n",
       "            <th>HEALTHY_SCHOOL_CERTIFIED</th>\n",
       "            <th>Safety_Icon</th>\n",
       "            <th>SAFETY_SCORE</th>\n",
       "            <th>Family_Involvement_Icon</th>\n",
       "            <th>Family_Involvement_Score</th>\n",
       "            <th>Environment_Icon</th>\n",
       "            <th>Environment_Score</th>\n",
       "            <th>Instruction_Icon</th>\n",
       "            <th>Instruction_Score</th>\n",
       "            <th>Leaders_Icon</th>\n",
       "            <th>Leaders_Score</th>\n",
       "            <th>Teachers_Icon</th>\n",
       "            <th>Teachers_Score</th>\n",
       "            <th>Parent_Engagement_Icon</th>\n",
       "            <th>Parent_Engagement_Score</th>\n",
       "            <th>Parent_Environment_Icon</th>\n",
       "            <th>Parent_Environment_Score</th>\n",
       "            <th>AVERAGE_STUDENT_ATTENDANCE</th>\n",
       "            <th>Rate_of_Misconducts__per_100_students_</th>\n",
       "            <th>Average_Teacher_Attendance</th>\n",
       "            <th>Individualized_Education_Program_Compliance_Rate</th>\n",
       "            <th>Pk_2_Literacy__</th>\n",
       "            <th>Pk_2_Math__</th>\n",
       "            <th>Gr3_5_Grade_Level_Math__</th>\n",
       "            <th>Gr3_5_Grade_Level_Read__</th>\n",
       "            <th>Gr3_5_Keep_Pace_Read__</th>\n",
       "            <th>Gr3_5_Keep_Pace_Math__</th>\n",
       "            <th>Gr6_8_Grade_Level_Math__</th>\n",
       "            <th>Gr6_8_Grade_Level_Read__</th>\n",
       "            <th>Gr6_8_Keep_Pace_Math_</th>\n",
       "            <th>Gr6_8_Keep_Pace_Read__</th>\n",
       "            <th>Gr_8_Explore_Math__</th>\n",
       "            <th>Gr_8_Explore_Read__</th>\n",
       "            <th>ISAT_Exceeding_Math__</th>\n",
       "            <th>ISAT_Exceeding_Reading__</th>\n",
       "            <th>ISAT_Value_Add_Math</th>\n",
       "            <th>ISAT_Value_Add_Read</th>\n",
       "            <th>ISAT_Value_Add_Color_Math</th>\n",
       "            <th>ISAT_Value_Add_Color_Read</th>\n",
       "            <th>Students_Taking__Algebra__</th>\n",
       "            <th>Students_Passing__Algebra__</th>\n",
       "            <th>9th Grade EXPLORE (2009)</th>\n",
       "            <th>9th Grade EXPLORE (2010)</th>\n",
       "            <th>10th Grade PLAN (2009)</th>\n",
       "            <th>10th Grade PLAN (2010)</th>\n",
       "            <th>Net_Change_EXPLORE_and_PLAN</th>\n",
       "            <th>11th Grade Average ACT (2011)</th>\n",
       "            <th>Net_Change_PLAN_and_ACT</th>\n",
       "            <th>College_Eligibility__</th>\n",
       "            <th>Graduation_Rate__</th>\n",
       "            <th>College_Enrollment_Rate__</th>\n",
       "            <th>COLLEGE_ENROLLMENT</th>\n",
       "            <th>General_Services_Route</th>\n",
       "            <th>Freshman_on_Track_Rate__</th>\n",
       "            <th>X_COORDINATE</th>\n",
       "            <th>Y_COORDINATE</th>\n",
       "            <th>Latitude</th>\n",
       "            <th>Longitude</th>\n",
       "            <th>COMMUNITY_AREA_NUMBER</th>\n",
       "            <th>COMMUNITY_AREA_NAME</th>\n",
       "            <th>Ward</th>\n",
       "            <th>Police_District</th>\n",
       "            <th>Location</th>\n",
       "        </tr>\n",
       "    </thead>\n",
       "    <tbody>\n",
       "        <tr>\n",
       "            <td>610038</td>\n",
       "            <td>Abraham Lincoln Elementary School</td>\n",
       "            <td>ES</td>\n",
       "            <td>615 W Kemper Pl</td>\n",
       "            <td>Chicago</td>\n",
       "            <td>IL</td>\n",
       "            <td>60614</td>\n",
       "            <td>(773) 534-5720</td>\n",
       "            <td><a href=http://schoolreports.cps.edu/SchoolProgressReport_Eng/Spring2011Eng_610038.pdf>http://schoolreports.cps.edu/SchoolProgressReport_Eng/Spring2011Eng_610038.pdf</a></td>\n",
       "            <td>Fullerton Elementary Network</td>\n",
       "            <td>NORTH-NORTHWEST SIDE COLLABORATIVE</td>\n",
       "            <td>No</td>\n",
       "            <td>Standard</td>\n",
       "            <td>Not on Probation</td>\n",
       "            <td>Level 1</td>\n",
       "            <td>Yes</td>\n",
       "            <td>Very Strong</td>\n",
       "            <td>99.0</td>\n",
       "            <td>Very Strong</td>\n",
       "            <td>99</td>\n",
       "            <td>Strong</td>\n",
       "            <td>74.0</td>\n",
       "            <td>Strong</td>\n",
       "            <td>66.0</td>\n",
       "            <td>Weak</td>\n",
       "            <td>65</td>\n",
       "            <td>Strong</td>\n",
       "            <td>70</td>\n",
       "            <td>Strong</td>\n",
       "            <td>56</td>\n",
       "            <td>Average</td>\n",
       "            <td>47</td>\n",
       "            <td>96.00%</td>\n",
       "            <td>2.0</td>\n",
       "            <td>96.40%</td>\n",
       "            <td>95.80%</td>\n",
       "            <td>80.1</td>\n",
       "            <td>43.3</td>\n",
       "            <td>89.6</td>\n",
       "            <td>84.9</td>\n",
       "            <td>60.7</td>\n",
       "            <td>62.6</td>\n",
       "            <td>81.9</td>\n",
       "            <td>85.2</td>\n",
       "            <td>52</td>\n",
       "            <td>62.4</td>\n",
       "            <td>66.3</td>\n",
       "            <td>77.9</td>\n",
       "            <td>69.7</td>\n",
       "            <td>64.4</td>\n",
       "            <td>0.2</td>\n",
       "            <td>0.9</td>\n",
       "            <td>Yellow</td>\n",
       "            <td>Green</td>\n",
       "            <td>67.1</td>\n",
       "            <td>54.5</td>\n",
       "            <td>NDA</td>\n",
       "            <td>NDA</td>\n",
       "            <td>NDA</td>\n",
       "            <td>NDA</td>\n",
       "            <td>NDA</td>\n",
       "            <td>NDA</td>\n",
       "            <td>NDA</td>\n",
       "            <td>NDA</td>\n",
       "            <td>NDA</td>\n",
       "            <td>NDA</td>\n",
       "            <td>813</td>\n",
       "            <td>33</td>\n",
       "            <td>NDA</td>\n",
       "            <td>1171699.458</td>\n",
       "            <td>1915829.428</td>\n",
       "            <td>41.92449696</td>\n",
       "            <td>-87.64452163</td>\n",
       "            <td>7</td>\n",
       "            <td>LINCOLN PARK</td>\n",
       "            <td>43</td>\n",
       "            <td>18</td>\n",
       "            <td>(41.92449696, -87.64452163)</td>\n",
       "        </tr>\n",
       "        <tr>\n",
       "            <td>610281</td>\n",
       "            <td>Adam Clayton Powell Paideia Community Academy Elementary School</td>\n",
       "            <td>ES</td>\n",
       "            <td>7511 S South Shore Dr</td>\n",
       "            <td>Chicago</td>\n",
       "            <td>IL</td>\n",
       "            <td>60649</td>\n",
       "            <td>(773) 535-6650</td>\n",
       "            <td><a href=http://schoolreports.cps.edu/SchoolProgressReport_Eng/Spring2011Eng_610281.pdf>http://schoolreports.cps.edu/SchoolProgressReport_Eng/Spring2011Eng_610281.pdf</a></td>\n",
       "            <td>Skyway Elementary Network</td>\n",
       "            <td>SOUTH SIDE COLLABORATIVE</td>\n",
       "            <td>No</td>\n",
       "            <td>Track_E</td>\n",
       "            <td>Not on Probation</td>\n",
       "            <td>Level 1</td>\n",
       "            <td>No</td>\n",
       "            <td>Average</td>\n",
       "            <td>54.0</td>\n",
       "            <td>Strong</td>\n",
       "            <td>66</td>\n",
       "            <td>Strong</td>\n",
       "            <td>74.0</td>\n",
       "            <td>Very Strong</td>\n",
       "            <td>84.0</td>\n",
       "            <td>Weak</td>\n",
       "            <td>63</td>\n",
       "            <td>Strong</td>\n",
       "            <td>76</td>\n",
       "            <td>Weak</td>\n",
       "            <td>46</td>\n",
       "            <td>Average</td>\n",
       "            <td>50</td>\n",
       "            <td>95.60%</td>\n",
       "            <td>15.7</td>\n",
       "            <td>95.30%</td>\n",
       "            <td>100.00%</td>\n",
       "            <td>62.4</td>\n",
       "            <td>51.7</td>\n",
       "            <td>21.9</td>\n",
       "            <td>15.1</td>\n",
       "            <td>29</td>\n",
       "            <td>42.8</td>\n",
       "            <td>38.5</td>\n",
       "            <td>27.4</td>\n",
       "            <td>44.8</td>\n",
       "            <td>42.7</td>\n",
       "            <td>14.1</td>\n",
       "            <td>34.4</td>\n",
       "            <td>16.8</td>\n",
       "            <td>16.5</td>\n",
       "            <td>0.7</td>\n",
       "            <td>1.4</td>\n",
       "            <td>Green</td>\n",
       "            <td>Green</td>\n",
       "            <td>17.2</td>\n",
       "            <td>27.3</td>\n",
       "            <td>NDA</td>\n",
       "            <td>NDA</td>\n",
       "            <td>NDA</td>\n",
       "            <td>NDA</td>\n",
       "            <td>NDA</td>\n",
       "            <td>NDA</td>\n",
       "            <td>NDA</td>\n",
       "            <td>NDA</td>\n",
       "            <td>NDA</td>\n",
       "            <td>NDA</td>\n",
       "            <td>521</td>\n",
       "            <td>46</td>\n",
       "            <td>NDA</td>\n",
       "            <td>1196129.985</td>\n",
       "            <td>1856209.466</td>\n",
       "            <td>41.76032435</td>\n",
       "            <td>-87.55673627</td>\n",
       "            <td>43</td>\n",
       "            <td>SOUTH SHORE</td>\n",
       "            <td>7</td>\n",
       "            <td>4</td>\n",
       "            <td>(41.76032435, -87.55673627)</td>\n",
       "        </tr>\n",
       "        <tr>\n",
       "            <td>610185</td>\n",
       "            <td>Adlai E Stevenson Elementary School</td>\n",
       "            <td>ES</td>\n",
       "            <td>8010 S Kostner Ave</td>\n",
       "            <td>Chicago</td>\n",
       "            <td>IL</td>\n",
       "            <td>60652</td>\n",
       "            <td>(773) 535-2280</td>\n",
       "            <td><a href=http://schoolreports.cps.edu/SchoolProgressReport_Eng/Spring2011Eng_610185.pdf>http://schoolreports.cps.edu/SchoolProgressReport_Eng/Spring2011Eng_610185.pdf</a></td>\n",
       "            <td>Midway Elementary Network</td>\n",
       "            <td>SOUTHWEST SIDE COLLABORATIVE</td>\n",
       "            <td>No</td>\n",
       "            <td>Standard</td>\n",
       "            <td>Not on Probation</td>\n",
       "            <td>Level 2</td>\n",
       "            <td>No</td>\n",
       "            <td>Strong</td>\n",
       "            <td>61.0</td>\n",
       "            <td>NDA</td>\n",
       "            <td>NDA</td>\n",
       "            <td>Average</td>\n",
       "            <td>50.0</td>\n",
       "            <td>Weak</td>\n",
       "            <td>36.0</td>\n",
       "            <td>Weak</td>\n",
       "            <td>NDA</td>\n",
       "            <td>NDA</td>\n",
       "            <td>NDA</td>\n",
       "            <td>Average</td>\n",
       "            <td>47</td>\n",
       "            <td>Weak</td>\n",
       "            <td>41</td>\n",
       "            <td>95.70%</td>\n",
       "            <td>2.3</td>\n",
       "            <td>94.70%</td>\n",
       "            <td>98.30%</td>\n",
       "            <td>53.7</td>\n",
       "            <td>26.6</td>\n",
       "            <td>38.3</td>\n",
       "            <td>34.7</td>\n",
       "            <td>43.7</td>\n",
       "            <td>57.3</td>\n",
       "            <td>48.8</td>\n",
       "            <td>39.2</td>\n",
       "            <td>46.8</td>\n",
       "            <td>44</td>\n",
       "            <td>7.5</td>\n",
       "            <td>21.9</td>\n",
       "            <td>18.3</td>\n",
       "            <td>15.5</td>\n",
       "            <td>-0.9</td>\n",
       "            <td>-1.0</td>\n",
       "            <td>Red</td>\n",
       "            <td>Red</td>\n",
       "            <td>NDA</td>\n",
       "            <td>NDA</td>\n",
       "            <td>NDA</td>\n",
       "            <td>NDA</td>\n",
       "            <td>NDA</td>\n",
       "            <td>NDA</td>\n",
       "            <td>NDA</td>\n",
       "            <td>NDA</td>\n",
       "            <td>NDA</td>\n",
       "            <td>NDA</td>\n",
       "            <td>NDA</td>\n",
       "            <td>NDA</td>\n",
       "            <td>1324</td>\n",
       "            <td>44</td>\n",
       "            <td>NDA</td>\n",
       "            <td>1148427.165</td>\n",
       "            <td>1851012.215</td>\n",
       "            <td>41.74711093</td>\n",
       "            <td>-87.73170248</td>\n",
       "            <td>70</td>\n",
       "            <td>ASHBURN</td>\n",
       "            <td>13</td>\n",
       "            <td>8</td>\n",
       "            <td>(41.74711093, -87.73170248)</td>\n",
       "        </tr>\n",
       "        <tr>\n",
       "            <td>609993</td>\n",
       "            <td>Agustin Lara Elementary Academy</td>\n",
       "            <td>ES</td>\n",
       "            <td>4619 S Wolcott Ave</td>\n",
       "            <td>Chicago</td>\n",
       "            <td>IL</td>\n",
       "            <td>60609</td>\n",
       "            <td>(773) 535-4389</td>\n",
       "            <td><a href=http://schoolreports.cps.edu/SchoolProgressReport_Eng/Spring2011Eng_609993.pdf>http://schoolreports.cps.edu/SchoolProgressReport_Eng/Spring2011Eng_609993.pdf</a></td>\n",
       "            <td>Pershing Elementary Network</td>\n",
       "            <td>SOUTHWEST SIDE COLLABORATIVE</td>\n",
       "            <td>No</td>\n",
       "            <td>Track_E</td>\n",
       "            <td>Not on Probation</td>\n",
       "            <td>Level 1</td>\n",
       "            <td>No</td>\n",
       "            <td>Average</td>\n",
       "            <td>56.0</td>\n",
       "            <td>Average</td>\n",
       "            <td>44</td>\n",
       "            <td>Average</td>\n",
       "            <td>45.0</td>\n",
       "            <td>Weak</td>\n",
       "            <td>37.0</td>\n",
       "            <td>Weak</td>\n",
       "            <td>65</td>\n",
       "            <td>Average</td>\n",
       "            <td>48</td>\n",
       "            <td>Average</td>\n",
       "            <td>53</td>\n",
       "            <td>Strong</td>\n",
       "            <td>58</td>\n",
       "            <td>95.50%</td>\n",
       "            <td>10.4</td>\n",
       "            <td>95.80%</td>\n",
       "            <td>100.00%</td>\n",
       "            <td>76.9</td>\n",
       "            <td>NDA</td>\n",
       "            <td>26</td>\n",
       "            <td>24.7</td>\n",
       "            <td>61.8</td>\n",
       "            <td>49.7</td>\n",
       "            <td>39.2</td>\n",
       "            <td>27.2</td>\n",
       "            <td>69.7</td>\n",
       "            <td>60.6</td>\n",
       "            <td>9.1</td>\n",
       "            <td>18.2</td>\n",
       "            <td>11.1</td>\n",
       "            <td>9.6</td>\n",
       "            <td>0.9</td>\n",
       "            <td>2.4</td>\n",
       "            <td>Green</td>\n",
       "            <td>Green</td>\n",
       "            <td>42.9</td>\n",
       "            <td>25</td>\n",
       "            <td>NDA</td>\n",
       "            <td>NDA</td>\n",
       "            <td>NDA</td>\n",
       "            <td>NDA</td>\n",
       "            <td>NDA</td>\n",
       "            <td>NDA</td>\n",
       "            <td>NDA</td>\n",
       "            <td>NDA</td>\n",
       "            <td>NDA</td>\n",
       "            <td>NDA</td>\n",
       "            <td>556</td>\n",
       "            <td>42</td>\n",
       "            <td>NDA</td>\n",
       "            <td>1164504.29</td>\n",
       "            <td>1873959.199</td>\n",
       "            <td>41.8097569</td>\n",
       "            <td>-87.6721446</td>\n",
       "            <td>61</td>\n",
       "            <td>NEW CITY</td>\n",
       "            <td>20</td>\n",
       "            <td>9</td>\n",
       "            <td>(41.8097569, -87.6721446)</td>\n",
       "        </tr>\n",
       "        <tr>\n",
       "            <td>610513</td>\n",
       "            <td>Air Force Academy High School</td>\n",
       "            <td>HS</td>\n",
       "            <td>3630 S Wells St</td>\n",
       "            <td>Chicago</td>\n",
       "            <td>IL</td>\n",
       "            <td>60609</td>\n",
       "            <td>(773) 535-1590</td>\n",
       "            <td><a href=http://schoolreports.cps.edu/SchoolProgressReport_Eng/Spring2011Eng_610513.pdf>http://schoolreports.cps.edu/SchoolProgressReport_Eng/Spring2011Eng_610513.pdf</a></td>\n",
       "            <td>Southwest Side High School Network</td>\n",
       "            <td>SOUTHWEST SIDE COLLABORATIVE</td>\n",
       "            <td>NDA</td>\n",
       "            <td>Standard</td>\n",
       "            <td>Not on Probation</td>\n",
       "            <td>Not Enough Data</td>\n",
       "            <td>Yes</td>\n",
       "            <td>Average</td>\n",
       "            <td>49.0</td>\n",
       "            <td>Strong</td>\n",
       "            <td>60</td>\n",
       "            <td>Strong</td>\n",
       "            <td>60.0</td>\n",
       "            <td>Average</td>\n",
       "            <td>55.0</td>\n",
       "            <td>Weak</td>\n",
       "            <td>45</td>\n",
       "            <td>Average</td>\n",
       "            <td>54</td>\n",
       "            <td>Average</td>\n",
       "            <td>53</td>\n",
       "            <td>Average</td>\n",
       "            <td>49</td>\n",
       "            <td>93.30%</td>\n",
       "            <td>15.6</td>\n",
       "            <td>96.90%</td>\n",
       "            <td>100.00%</td>\n",
       "            <td>NDA</td>\n",
       "            <td>NDA</td>\n",
       "            <td>NDA</td>\n",
       "            <td>NDA</td>\n",
       "            <td>NDA</td>\n",
       "            <td>NDA</td>\n",
       "            <td>NDA</td>\n",
       "            <td>NDA</td>\n",
       "            <td>NDA</td>\n",
       "            <td>NDA</td>\n",
       "            <td>NDA</td>\n",
       "            <td>NDA</td>\n",
       "            <td>None</td>\n",
       "            <td>None</td>\n",
       "            <td>None</td>\n",
       "            <td>None</td>\n",
       "            <td>NDA</td>\n",
       "            <td>NDA</td>\n",
       "            <td>NDA</td>\n",
       "            <td>NDA</td>\n",
       "            <td>14.6</td>\n",
       "            <td>14.8</td>\n",
       "            <td>NDA</td>\n",
       "            <td>16</td>\n",
       "            <td>1.4</td>\n",
       "            <td>NDA</td>\n",
       "            <td>NDA</td>\n",
       "            <td>NDA</td>\n",
       "            <td>NDA</td>\n",
       "            <td>NDA</td>\n",
       "            <td>302</td>\n",
       "            <td>40</td>\n",
       "            <td>91.8</td>\n",
       "            <td>1175177.622</td>\n",
       "            <td>1880745.126</td>\n",
       "            <td>41.82814609</td>\n",
       "            <td>-87.63279369</td>\n",
       "            <td>34</td>\n",
       "            <td>ARMOUR SQUARE</td>\n",
       "            <td>11</td>\n",
       "            <td>9</td>\n",
       "            <td>(41.82814609, -87.63279369)</td>\n",
       "        </tr>\n",
       "        <tr>\n",
       "            <td>610212</td>\n",
       "            <td>Albany Park Multicultural Academy</td>\n",
       "            <td>MS</td>\n",
       "            <td>4929 N Sawyer Ave</td>\n",
       "            <td>Chicago</td>\n",
       "            <td>IL</td>\n",
       "            <td>60625</td>\n",
       "            <td>(773) 534-5108</td>\n",
       "            <td><a href=http://schoolreports.cps.edu/SchoolProgressReport_Eng/Spring2011Eng_610212.pdf>http://schoolreports.cps.edu/SchoolProgressReport_Eng/Spring2011Eng_610212.pdf</a></td>\n",
       "            <td>O'Hare Elementary Network</td>\n",
       "            <td>NORTH-NORTHWEST SIDE COLLABORATIVE</td>\n",
       "            <td>Yes</td>\n",
       "            <td>Standard</td>\n",
       "            <td>Not on Probation</td>\n",
       "            <td>Level 1</td>\n",
       "            <td>No</td>\n",
       "            <td>Strong</td>\n",
       "            <td>66.0</td>\n",
       "            <td>Weak</td>\n",
       "            <td>37</td>\n",
       "            <td>Strong</td>\n",
       "            <td>66.0</td>\n",
       "            <td>Strong</td>\n",
       "            <td>71.0</td>\n",
       "            <td>Weak</td>\n",
       "            <td>43</td>\n",
       "            <td>Average</td>\n",
       "            <td>50</td>\n",
       "            <td>Weak</td>\n",
       "            <td>46</td>\n",
       "            <td>Average</td>\n",
       "            <td>51</td>\n",
       "            <td>97.00%</td>\n",
       "            <td>2.3</td>\n",
       "            <td>96.90%</td>\n",
       "            <td>100.00%</td>\n",
       "            <td>NDA</td>\n",
       "            <td>NDA</td>\n",
       "            <td>NDA</td>\n",
       "            <td>NDA</td>\n",
       "            <td>NDA</td>\n",
       "            <td>NDA</td>\n",
       "            <td>60.7</td>\n",
       "            <td>39.8</td>\n",
       "            <td>53.7</td>\n",
       "            <td>59.8</td>\n",
       "            <td>17.5</td>\n",
       "            <td>20.8</td>\n",
       "            <td>34.5</td>\n",
       "            <td>15.6</td>\n",
       "            <td>0.2</td>\n",
       "            <td>0.3</td>\n",
       "            <td>Yellow</td>\n",
       "            <td>Yellow</td>\n",
       "            <td>29.2</td>\n",
       "            <td>50</td>\n",
       "            <td>NDA</td>\n",
       "            <td>NDA</td>\n",
       "            <td>NDA</td>\n",
       "            <td>NDA</td>\n",
       "            <td>NDA</td>\n",
       "            <td>NDA</td>\n",
       "            <td>NDA</td>\n",
       "            <td>NDA</td>\n",
       "            <td>NDA</td>\n",
       "            <td>NDA</td>\n",
       "            <td>266</td>\n",
       "            <td>31</td>\n",
       "            <td>NDA</td>\n",
       "            <td>1153858.196</td>\n",
       "            <td>1932691.891</td>\n",
       "            <td>41.9711433</td>\n",
       "            <td>-87.70962725</td>\n",
       "            <td>14</td>\n",
       "            <td>ALBANY PARK</td>\n",
       "            <td>39</td>\n",
       "            <td>17</td>\n",
       "            <td>(41.9711433, -87.70962725)</td>\n",
       "        </tr>\n",
       "        <tr>\n",
       "            <td>609720</td>\n",
       "            <td>Albert G Lane Technical High School</td>\n",
       "            <td>HS</td>\n",
       "            <td>2501 W Addison St</td>\n",
       "            <td>Chicago</td>\n",
       "            <td>IL</td>\n",
       "            <td>60618</td>\n",
       "            <td>(773) 534-5400</td>\n",
       "            <td><a href=http://schoolreports.cps.edu/SchoolProgressReport_Eng/Spring2011Eng_609720.pdf>http://schoolreports.cps.edu/SchoolProgressReport_Eng/Spring2011Eng_609720.pdf</a></td>\n",
       "            <td>North-Northwest Side High School Network</td>\n",
       "            <td>NORTH-NORTHWEST SIDE COLLABORATIVE</td>\n",
       "            <td>Yes</td>\n",
       "            <td>Standard</td>\n",
       "            <td>Not on Probation</td>\n",
       "            <td>Level 1</td>\n",
       "            <td>No</td>\n",
       "            <td>Very Strong</td>\n",
       "            <td>88.0</td>\n",
       "            <td>NDA</td>\n",
       "            <td>NDA</td>\n",
       "            <td>Strong</td>\n",
       "            <td>62.0</td>\n",
       "            <td>Average</td>\n",
       "            <td>52.0</td>\n",
       "            <td>Weak</td>\n",
       "            <td>NDA</td>\n",
       "            <td>NDA</td>\n",
       "            <td>NDA</td>\n",
       "            <td>NDA</td>\n",
       "            <td>NDA</td>\n",
       "            <td>NDA</td>\n",
       "            <td>NDA</td>\n",
       "            <td>96.30%</td>\n",
       "            <td>2.1</td>\n",
       "            <td>96.20%</td>\n",
       "            <td>99.40%</td>\n",
       "            <td>NDA</td>\n",
       "            <td>NDA</td>\n",
       "            <td>NDA</td>\n",
       "            <td>NDA</td>\n",
       "            <td>NDA</td>\n",
       "            <td>NDA</td>\n",
       "            <td>NDA</td>\n",
       "            <td>NDA</td>\n",
       "            <td>NDA</td>\n",
       "            <td>NDA</td>\n",
       "            <td>NDA</td>\n",
       "            <td>NDA</td>\n",
       "            <td>None</td>\n",
       "            <td>None</td>\n",
       "            <td>None</td>\n",
       "            <td>None</td>\n",
       "            <td>NDA</td>\n",
       "            <td>NDA</td>\n",
       "            <td>NDA</td>\n",
       "            <td>NDA</td>\n",
       "            <td>19.1</td>\n",
       "            <td>19.5</td>\n",
       "            <td>19.9</td>\n",
       "            <td>20.1</td>\n",
       "            <td>1</td>\n",
       "            <td>23.4</td>\n",
       "            <td>3.5</td>\n",
       "            <td>67.9</td>\n",
       "            <td>92.2</td>\n",
       "            <td>79.8</td>\n",
       "            <td>4368</td>\n",
       "            <td>35</td>\n",
       "            <td>90.7</td>\n",
       "            <td>1158975.392</td>\n",
       "            <td>1923791.705</td>\n",
       "            <td>41.94661693</td>\n",
       "            <td>-87.69105603</td>\n",
       "            <td>5</td>\n",
       "            <td>NORTH CENTER</td>\n",
       "            <td>47</td>\n",
       "            <td>19</td>\n",
       "            <td>(41.94661693, -87.69105603)</td>\n",
       "        </tr>\n",
       "        <tr>\n",
       "            <td>610342</td>\n",
       "            <td>Albert R Sabin Elementary Magnet School</td>\n",
       "            <td>ES</td>\n",
       "            <td>2216 W Hirsch St</td>\n",
       "            <td>Chicago</td>\n",
       "            <td>IL</td>\n",
       "            <td>60622</td>\n",
       "            <td>(773) 534-4491</td>\n",
       "            <td><a href=http://schoolreports.cps.edu/SchoolProgressReport_Eng/Spring2011Eng_610342.pdf>http://schoolreports.cps.edu/SchoolProgressReport_Eng/Spring2011Eng_610342.pdf</a></td>\n",
       "            <td>Fulton Elementary Network</td>\n",
       "            <td>WEST SIDE COLLABORATIVE</td>\n",
       "            <td>No</td>\n",
       "            <td>Standard</td>\n",
       "            <td>Probation</td>\n",
       "            <td>Level 3</td>\n",
       "            <td>No</td>\n",
       "            <td>Strong</td>\n",
       "            <td>67.0</td>\n",
       "            <td>NDA</td>\n",
       "            <td>NDA</td>\n",
       "            <td>Weak</td>\n",
       "            <td>30.0</td>\n",
       "            <td>Very Weak</td>\n",
       "            <td>18.0</td>\n",
       "            <td>Weak</td>\n",
       "            <td>NDA</td>\n",
       "            <td>NDA</td>\n",
       "            <td>NDA</td>\n",
       "            <td>NDA</td>\n",
       "            <td>NDA</td>\n",
       "            <td>NDA</td>\n",
       "            <td>NDA</td>\n",
       "            <td>94.70%</td>\n",
       "            <td>28.1</td>\n",
       "            <td>95.00%</td>\n",
       "            <td>100.00%</td>\n",
       "            <td>56.3</td>\n",
       "            <td>NDA</td>\n",
       "            <td>33.5</td>\n",
       "            <td>33.5</td>\n",
       "            <td>49.5</td>\n",
       "            <td>49.5</td>\n",
       "            <td>27.4</td>\n",
       "            <td>39.3</td>\n",
       "            <td>35.5</td>\n",
       "            <td>44.4</td>\n",
       "            <td>25</td>\n",
       "            <td>23.4</td>\n",
       "            <td>18.0</td>\n",
       "            <td>12.8</td>\n",
       "            <td>-1.8</td>\n",
       "            <td>0.1</td>\n",
       "            <td>Red</td>\n",
       "            <td>Yellow</td>\n",
       "            <td>NDA</td>\n",
       "            <td>NDA</td>\n",
       "            <td>NDA</td>\n",
       "            <td>NDA</td>\n",
       "            <td>NDA</td>\n",
       "            <td>NDA</td>\n",
       "            <td>NDA</td>\n",
       "            <td>NDA</td>\n",
       "            <td>NDA</td>\n",
       "            <td>NDA</td>\n",
       "            <td>NDA</td>\n",
       "            <td>NDA</td>\n",
       "            <td>620</td>\n",
       "            <td>35</td>\n",
       "            <td>NDA</td>\n",
       "            <td>1161265.299</td>\n",
       "            <td>1909314.592</td>\n",
       "            <td>41.90684338</td>\n",
       "            <td>-87.68304259</td>\n",
       "            <td>24</td>\n",
       "            <td>WEST TOWN</td>\n",
       "            <td>1</td>\n",
       "            <td>14</td>\n",
       "            <td>(41.90684338, -87.68304259)</td>\n",
       "        </tr>\n",
       "        <tr>\n",
       "            <td>610524</td>\n",
       "            <td>Alcott High School for the Humanities</td>\n",
       "            <td>HS</td>\n",
       "            <td>2957 N Hoyne Ave</td>\n",
       "            <td>Chicago</td>\n",
       "            <td>IL</td>\n",
       "            <td>60618</td>\n",
       "            <td>(773) 534-5979</td>\n",
       "            <td><a href=http://schoolreports.cps.edu/SchoolProgressReport_Eng/Spring2011Eng_610524.pdf>http://schoolreports.cps.edu/SchoolProgressReport_Eng/Spring2011Eng_610524.pdf</a></td>\n",
       "            <td>North-Northwest Side High School Network</td>\n",
       "            <td>NORTH-NORTHWEST SIDE COLLABORATIVE</td>\n",
       "            <td>NDA</td>\n",
       "            <td>Standard</td>\n",
       "            <td>Not on Probation</td>\n",
       "            <td>Not Enough Data</td>\n",
       "            <td>No</td>\n",
       "            <td>Strong</td>\n",
       "            <td>70.0</td>\n",
       "            <td>NDA</td>\n",
       "            <td>NDA</td>\n",
       "            <td>Strong</td>\n",
       "            <td>67.0</td>\n",
       "            <td>Average</td>\n",
       "            <td>51.0</td>\n",
       "            <td>Weak</td>\n",
       "            <td>NDA</td>\n",
       "            <td>NDA</td>\n",
       "            <td>NDA</td>\n",
       "            <td>Strong</td>\n",
       "            <td>57</td>\n",
       "            <td>Weak</td>\n",
       "            <td>43</td>\n",
       "            <td>92.70%</td>\n",
       "            <td>7.1</td>\n",
       "            <td>96.90%</td>\n",
       "            <td>100.00%</td>\n",
       "            <td>NDA</td>\n",
       "            <td>NDA</td>\n",
       "            <td>NDA</td>\n",
       "            <td>NDA</td>\n",
       "            <td>NDA</td>\n",
       "            <td>NDA</td>\n",
       "            <td>NDA</td>\n",
       "            <td>NDA</td>\n",
       "            <td>NDA</td>\n",
       "            <td>NDA</td>\n",
       "            <td>NDA</td>\n",
       "            <td>NDA</td>\n",
       "            <td>None</td>\n",
       "            <td>None</td>\n",
       "            <td>None</td>\n",
       "            <td>None</td>\n",
       "            <td>NDA</td>\n",
       "            <td>NDA</td>\n",
       "            <td>NDA</td>\n",
       "            <td>NDA</td>\n",
       "            <td>14.7</td>\n",
       "            <td>13.7</td>\n",
       "            <td>NDA</td>\n",
       "            <td>16</td>\n",
       "            <td>1.3</td>\n",
       "            <td>NDA</td>\n",
       "            <td>NDA</td>\n",
       "            <td>NDA</td>\n",
       "            <td>NDA</td>\n",
       "            <td>NDA</td>\n",
       "            <td>232</td>\n",
       "            <td>33</td>\n",
       "            <td>87.6</td>\n",
       "            <td>1161870.556</td>\n",
       "            <td>1919857.44</td>\n",
       "            <td>41.93576106</td>\n",
       "            <td>-87.68052441</td>\n",
       "            <td>5</td>\n",
       "            <td>NORTH CENTER</td>\n",
       "            <td>1</td>\n",
       "            <td>19</td>\n",
       "            <td>(41.93576106, -87.68052441)</td>\n",
       "        </tr>\n",
       "        <tr>\n",
       "            <td>610209</td>\n",
       "            <td>Alessandro Volta Elementary School</td>\n",
       "            <td>ES</td>\n",
       "            <td>4950 N Avers Ave</td>\n",
       "            <td>Chicago</td>\n",
       "            <td>IL</td>\n",
       "            <td>60625</td>\n",
       "            <td>(773) 534-5080</td>\n",
       "            <td><a href=http://schoolreports.cps.edu/SchoolProgressReport_Eng/Spring2011Eng_610209.pdf>http://schoolreports.cps.edu/SchoolProgressReport_Eng/Spring2011Eng_610209.pdf</a></td>\n",
       "            <td>O'Hare Elementary Network</td>\n",
       "            <td>NORTH-NORTHWEST SIDE COLLABORATIVE</td>\n",
       "            <td>No</td>\n",
       "            <td>Track_E</td>\n",
       "            <td>Not on Probation</td>\n",
       "            <td>Level 2</td>\n",
       "            <td>No</td>\n",
       "            <td>Average</td>\n",
       "            <td>43.0</td>\n",
       "            <td>Strong</td>\n",
       "            <td>61</td>\n",
       "            <td>Weak</td>\n",
       "            <td>28.0</td>\n",
       "            <td>Weak</td>\n",
       "            <td>37.0</td>\n",
       "            <td>Weak</td>\n",
       "            <td>62</td>\n",
       "            <td>Average</td>\n",
       "            <td>56</td>\n",
       "            <td>Average</td>\n",
       "            <td>51</td>\n",
       "            <td>Average</td>\n",
       "            <td>53</td>\n",
       "            <td>96.40%</td>\n",
       "            <td>22.5</td>\n",
       "            <td>95.90%</td>\n",
       "            <td>100.00%</td>\n",
       "            <td>63.9</td>\n",
       "            <td>43.2</td>\n",
       "            <td>51.3</td>\n",
       "            <td>32.9</td>\n",
       "            <td>50.7</td>\n",
       "            <td>70</td>\n",
       "            <td>52.5</td>\n",
       "            <td>31.3</td>\n",
       "            <td>59.8</td>\n",
       "            <td>57.6</td>\n",
       "            <td>16.5</td>\n",
       "            <td>24.7</td>\n",
       "            <td>19.9</td>\n",
       "            <td>14.2</td>\n",
       "            <td>0.3</td>\n",
       "            <td>-0.4</td>\n",
       "            <td>Yellow</td>\n",
       "            <td>Yellow</td>\n",
       "            <td>31.6</td>\n",
       "            <td>65.2</td>\n",
       "            <td>NDA</td>\n",
       "            <td>NDA</td>\n",
       "            <td>NDA</td>\n",
       "            <td>NDA</td>\n",
       "            <td>NDA</td>\n",
       "            <td>NDA</td>\n",
       "            <td>NDA</td>\n",
       "            <td>NDA</td>\n",
       "            <td>NDA</td>\n",
       "            <td>NDA</td>\n",
       "            <td>1023</td>\n",
       "            <td>31</td>\n",
       "            <td>NDA</td>\n",
       "            <td>1149774.095</td>\n",
       "            <td>1932831.151</td>\n",
       "            <td>41.97160605</td>\n",
       "            <td>-87.72464139</td>\n",
       "            <td>14</td>\n",
       "            <td>ALBANY PARK</td>\n",
       "            <td>39</td>\n",
       "            <td>17</td>\n",
       "            <td>(41.97160605, -87.72464139)</td>\n",
       "        </tr>\n",
       "    </tbody>\n",
       "</table>\n",
       "<span style=\"font-style:italic;text-align:center;\">Truncated to <a href=\"https://jupysql.ploomber.io/en/latest/api/configuration.html#displaylimit\">displaylimit</a> of 10.</span>"
      ],
      "text/plain": [
       "+-----------+-----------------------------------------------------------------+------------------------------------+-----------------------+---------+-------+----------+----------------+---------------------------------------------------------------------------------------------------------------------------------------------------------------------------+------------------------------------------+------------------------------------+--------------------------------+----------------+-------------------------------+------------------------------+--------------------------+-------------+--------------+-------------------------+--------------------------+------------------+-------------------+------------------+-------------------+--------------+---------------+---------------+----------------+------------------------+-------------------------+-------------------------+--------------------------+----------------------------+----------------------------------------+----------------------------+--------------------------------------------------+-----------------+-------------+--------------------------+--------------------------+------------------------+------------------------+--------------------------+--------------------------+-----------------------+------------------------+---------------------+---------------------+-----------------------+--------------------------+---------------------+---------------------+---------------------------+---------------------------+----------------------------+-----------------------------+--------------------------+--------------------------+------------------------+------------------------+-----------------------------+-------------------------------+-------------------------+-----------------------+-------------------+---------------------------+--------------------+------------------------+--------------------------+--------------+--------------+-------------+--------------+-----------------------+---------------------+------+-----------------+-----------------------------+\n",
       "| School_ID |                          NAME_OF_SCHOOL                         | Elementary, Middle, or High School |     Street_Address    |   City  | State | ZIP_Code |  Phone_Number  |                                                                                    Link                                                                                   |             Network_Manager              |         Collaborative_Name         | Adequate_Yearly_Progress_Made_ | Track_Schedule | CPS_Performance_Policy_Status | CPS_Performance_Policy_Level | HEALTHY_SCHOOL_CERTIFIED | Safety_Icon | SAFETY_SCORE | Family_Involvement_Icon | Family_Involvement_Score | Environment_Icon | Environment_Score | Instruction_Icon | Instruction_Score | Leaders_Icon | Leaders_Score | Teachers_Icon | Teachers_Score | Parent_Engagement_Icon | Parent_Engagement_Score | Parent_Environment_Icon | Parent_Environment_Score | AVERAGE_STUDENT_ATTENDANCE | Rate_of_Misconducts__per_100_students_ | Average_Teacher_Attendance | Individualized_Education_Program_Compliance_Rate | Pk_2_Literacy__ | Pk_2_Math__ | Gr3_5_Grade_Level_Math__ | Gr3_5_Grade_Level_Read__ | Gr3_5_Keep_Pace_Read__ | Gr3_5_Keep_Pace_Math__ | Gr6_8_Grade_Level_Math__ | Gr6_8_Grade_Level_Read__ | Gr6_8_Keep_Pace_Math_ | Gr6_8_Keep_Pace_Read__ | Gr_8_Explore_Math__ | Gr_8_Explore_Read__ | ISAT_Exceeding_Math__ | ISAT_Exceeding_Reading__ | ISAT_Value_Add_Math | ISAT_Value_Add_Read | ISAT_Value_Add_Color_Math | ISAT_Value_Add_Color_Read | Students_Taking__Algebra__ | Students_Passing__Algebra__ | 9th Grade EXPLORE (2009) | 9th Grade EXPLORE (2010) | 10th Grade PLAN (2009) | 10th Grade PLAN (2010) | Net_Change_EXPLORE_and_PLAN | 11th Grade Average ACT (2011) | Net_Change_PLAN_and_ACT | College_Eligibility__ | Graduation_Rate__ | College_Enrollment_Rate__ | COLLEGE_ENROLLMENT | General_Services_Route | Freshman_on_Track_Rate__ | X_COORDINATE | Y_COORDINATE |   Latitude  |  Longitude   | COMMUNITY_AREA_NUMBER | COMMUNITY_AREA_NAME | Ward | Police_District |           Location          |\n",
       "+-----------+-----------------------------------------------------------------+------------------------------------+-----------------------+---------+-------+----------+----------------+---------------------------------------------------------------------------------------------------------------------------------------------------------------------------+------------------------------------------+------------------------------------+--------------------------------+----------------+-------------------------------+------------------------------+--------------------------+-------------+--------------+-------------------------+--------------------------+------------------+-------------------+------------------+-------------------+--------------+---------------+---------------+----------------+------------------------+-------------------------+-------------------------+--------------------------+----------------------------+----------------------------------------+----------------------------+--------------------------------------------------+-----------------+-------------+--------------------------+--------------------------+------------------------+------------------------+--------------------------+--------------------------+-----------------------+------------------------+---------------------+---------------------+-----------------------+--------------------------+---------------------+---------------------+---------------------------+---------------------------+----------------------------+-----------------------------+--------------------------+--------------------------+------------------------+------------------------+-----------------------------+-------------------------------+-------------------------+-----------------------+-------------------+---------------------------+--------------------+------------------------+--------------------------+--------------+--------------+-------------+--------------+-----------------------+---------------------+------+-----------------+-----------------------------+\n",
       "|   610038  |                Abraham Lincoln Elementary School                |                 ES                 |    615 W Kemper Pl    | Chicago |   IL  |  60614   | (773) 534-5720 | <a href=http://schoolreports.cps.edu/SchoolProgressReport_Eng/Spring2011Eng_610038.pdf>http://schoolreports.cps.edu/SchoolProgressReport_Eng/Spring2011Eng_610038.pdf</a> |       Fullerton Elementary Network       | NORTH-NORTHWEST SIDE COLLABORATIVE |               No               |    Standard    |        Not on Probation       |           Level 1            |           Yes            | Very Strong |     99.0     |       Very Strong       |            99            |      Strong      |        74.0       |      Strong      |        66.0       |     Weak     |       65      |     Strong    |       70       |         Strong         |            56           |         Average         |            47            |           96.00%           |                  2.0                   |           96.40%           |                      95.80%                      |       80.1      |     43.3    |           89.6           |           84.9           |          60.7          |          62.6          |           81.9           |           85.2           |           52          |          62.4          |         66.3        |         77.9        |          69.7         |           64.4           |         0.2         |         0.9         |           Yellow          |           Green           |            67.1            |             54.5            |           NDA            |           NDA            |          NDA           |          NDA           |             NDA             |              NDA              |           NDA           |          NDA          |        NDA        |            NDA            |        813         |           33           |           NDA            | 1171699.458  | 1915829.428  | 41.92449696 | -87.64452163 |           7           |     LINCOLN PARK    |  43  |        18       | (41.92449696, -87.64452163) |\n",
       "|   610281  | Adam Clayton Powell Paideia Community Academy Elementary School |                 ES                 | 7511 S South Shore Dr | Chicago |   IL  |  60649   | (773) 535-6650 | <a href=http://schoolreports.cps.edu/SchoolProgressReport_Eng/Spring2011Eng_610281.pdf>http://schoolreports.cps.edu/SchoolProgressReport_Eng/Spring2011Eng_610281.pdf</a> |        Skyway Elementary Network         |      SOUTH SIDE COLLABORATIVE      |               No               |    Track_E     |        Not on Probation       |           Level 1            |            No            |   Average   |     54.0     |          Strong         |            66            |      Strong      |        74.0       |   Very Strong    |        84.0       |     Weak     |       63      |     Strong    |       76       |          Weak          |            46           |         Average         |            50            |           95.60%           |                  15.7                  |           95.30%           |                     100.00%                      |       62.4      |     51.7    |           21.9           |           15.1           |           29           |          42.8          |           38.5           |           27.4           |          44.8         |          42.7          |         14.1        |         34.4        |          16.8         |           16.5           |         0.7         |         1.4         |           Green           |           Green           |            17.2            |             27.3            |           NDA            |           NDA            |          NDA           |          NDA           |             NDA             |              NDA              |           NDA           |          NDA          |        NDA        |            NDA            |        521         |           46           |           NDA            | 1196129.985  | 1856209.466  | 41.76032435 | -87.55673627 |           43          |     SOUTH SHORE     |  7   |        4        | (41.76032435, -87.55673627) |\n",
       "|   610185  |               Adlai E Stevenson Elementary School               |                 ES                 |   8010 S Kostner Ave  | Chicago |   IL  |  60652   | (773) 535-2280 | <a href=http://schoolreports.cps.edu/SchoolProgressReport_Eng/Spring2011Eng_610185.pdf>http://schoolreports.cps.edu/SchoolProgressReport_Eng/Spring2011Eng_610185.pdf</a> |        Midway Elementary Network         |    SOUTHWEST SIDE COLLABORATIVE    |               No               |    Standard    |        Not on Probation       |           Level 2            |            No            |    Strong   |     61.0     |           NDA           |           NDA            |     Average      |        50.0       |       Weak       |        36.0       |     Weak     |      NDA      |      NDA      |      NDA       |        Average         |            47           |           Weak          |            41            |           95.70%           |                  2.3                   |           94.70%           |                      98.30%                      |       53.7      |     26.6    |           38.3           |           34.7           |          43.7          |          57.3          |           48.8           |           39.2           |          46.8         |           44           |         7.5         |         21.9        |          18.3         |           15.5           |         -0.9        |         -1.0        |            Red            |            Red            |            NDA             |             NDA             |           NDA            |           NDA            |          NDA           |          NDA           |             NDA             |              NDA              |           NDA           |          NDA          |        NDA        |            NDA            |        1324        |           44           |           NDA            | 1148427.165  | 1851012.215  | 41.74711093 | -87.73170248 |           70          |       ASHBURN       |  13  |        8        | (41.74711093, -87.73170248) |\n",
       "|   609993  |                 Agustin Lara Elementary Academy                 |                 ES                 |   4619 S Wolcott Ave  | Chicago |   IL  |  60609   | (773) 535-4389 | <a href=http://schoolreports.cps.edu/SchoolProgressReport_Eng/Spring2011Eng_609993.pdf>http://schoolreports.cps.edu/SchoolProgressReport_Eng/Spring2011Eng_609993.pdf</a> |       Pershing Elementary Network        |    SOUTHWEST SIDE COLLABORATIVE    |               No               |    Track_E     |        Not on Probation       |           Level 1            |            No            |   Average   |     56.0     |         Average         |            44            |     Average      |        45.0       |       Weak       |        37.0       |     Weak     |       65      |    Average    |       48       |        Average         |            53           |          Strong         |            58            |           95.50%           |                  10.4                  |           95.80%           |                     100.00%                      |       76.9      |     NDA     |            26            |           24.7           |          61.8          |          49.7          |           39.2           |           27.2           |          69.7         |          60.6          |         9.1         |         18.2        |          11.1         |           9.6            |         0.9         |         2.4         |           Green           |           Green           |            42.9            |              25             |           NDA            |           NDA            |          NDA           |          NDA           |             NDA             |              NDA              |           NDA           |          NDA          |        NDA        |            NDA            |        556         |           42           |           NDA            |  1164504.29  | 1873959.199  |  41.8097569 | -87.6721446  |           61          |       NEW CITY      |  20  |        9        |  (41.8097569, -87.6721446)  |\n",
       "|   610513  |                  Air Force Academy High School                  |                 HS                 |    3630 S Wells St    | Chicago |   IL  |  60609   | (773) 535-1590 | <a href=http://schoolreports.cps.edu/SchoolProgressReport_Eng/Spring2011Eng_610513.pdf>http://schoolreports.cps.edu/SchoolProgressReport_Eng/Spring2011Eng_610513.pdf</a> |    Southwest Side High School Network    |    SOUTHWEST SIDE COLLABORATIVE    |              NDA               |    Standard    |        Not on Probation       |       Not Enough Data        |           Yes            |   Average   |     49.0     |          Strong         |            60            |      Strong      |        60.0       |     Average      |        55.0       |     Weak     |       45      |    Average    |       54       |        Average         |            53           |         Average         |            49            |           93.30%           |                  15.6                  |           96.90%           |                     100.00%                      |       NDA       |     NDA     |           NDA            |           NDA            |          NDA           |          NDA           |           NDA            |           NDA            |          NDA          |          NDA           |         NDA         |         NDA         |          None         |           None           |         None        |         None        |            NDA            |            NDA            |            NDA             |             NDA             |           14.6           |           14.8           |          NDA           |           16           |             1.4             |              NDA              |           NDA           |          NDA          |        NDA        |            NDA            |        302         |           40           |           91.8           | 1175177.622  | 1880745.126  | 41.82814609 | -87.63279369 |           34          |    ARMOUR SQUARE    |  11  |        9        | (41.82814609, -87.63279369) |\n",
       "|   610212  |                Albany Park Multicultural Academy                |                 MS                 |   4929 N Sawyer Ave   | Chicago |   IL  |  60625   | (773) 534-5108 | <a href=http://schoolreports.cps.edu/SchoolProgressReport_Eng/Spring2011Eng_610212.pdf>http://schoolreports.cps.edu/SchoolProgressReport_Eng/Spring2011Eng_610212.pdf</a> |        O'Hare Elementary Network         | NORTH-NORTHWEST SIDE COLLABORATIVE |              Yes               |    Standard    |        Not on Probation       |           Level 1            |            No            |    Strong   |     66.0     |           Weak          |            37            |      Strong      |        66.0       |      Strong      |        71.0       |     Weak     |       43      |    Average    |       50       |          Weak          |            46           |         Average         |            51            |           97.00%           |                  2.3                   |           96.90%           |                     100.00%                      |       NDA       |     NDA     |           NDA            |           NDA            |          NDA           |          NDA           |           60.7           |           39.8           |          53.7         |          59.8          |         17.5        |         20.8        |          34.5         |           15.6           |         0.2         |         0.3         |           Yellow          |           Yellow          |            29.2            |              50             |           NDA            |           NDA            |          NDA           |          NDA           |             NDA             |              NDA              |           NDA           |          NDA          |        NDA        |            NDA            |        266         |           31           |           NDA            | 1153858.196  | 1932691.891  |  41.9711433 | -87.70962725 |           14          |     ALBANY PARK     |  39  |        17       |  (41.9711433, -87.70962725) |\n",
       "|   609720  |               Albert G Lane Technical High School               |                 HS                 |   2501 W Addison St   | Chicago |   IL  |  60618   | (773) 534-5400 | <a href=http://schoolreports.cps.edu/SchoolProgressReport_Eng/Spring2011Eng_609720.pdf>http://schoolreports.cps.edu/SchoolProgressReport_Eng/Spring2011Eng_609720.pdf</a> | North-Northwest Side High School Network | NORTH-NORTHWEST SIDE COLLABORATIVE |              Yes               |    Standard    |        Not on Probation       |           Level 1            |            No            | Very Strong |     88.0     |           NDA           |           NDA            |      Strong      |        62.0       |     Average      |        52.0       |     Weak     |      NDA      |      NDA      |      NDA       |          NDA           |           NDA           |           NDA           |           NDA            |           96.30%           |                  2.1                   |           96.20%           |                      99.40%                      |       NDA       |     NDA     |           NDA            |           NDA            |          NDA           |          NDA           |           NDA            |           NDA            |          NDA          |          NDA           |         NDA         |         NDA         |          None         |           None           |         None        |         None        |            NDA            |            NDA            |            NDA             |             NDA             |           19.1           |           19.5           |          19.9          |          20.1          |              1              |              23.4             |           3.5           |          67.9         |        92.2       |            79.8           |        4368        |           35           |           90.7           | 1158975.392  | 1923791.705  | 41.94661693 | -87.69105603 |           5           |     NORTH CENTER    |  47  |        19       | (41.94661693, -87.69105603) |\n",
       "|   610342  |             Albert R Sabin Elementary Magnet School             |                 ES                 |    2216 W Hirsch St   | Chicago |   IL  |  60622   | (773) 534-4491 | <a href=http://schoolreports.cps.edu/SchoolProgressReport_Eng/Spring2011Eng_610342.pdf>http://schoolreports.cps.edu/SchoolProgressReport_Eng/Spring2011Eng_610342.pdf</a> |        Fulton Elementary Network         |      WEST SIDE COLLABORATIVE       |               No               |    Standard    |           Probation           |           Level 3            |            No            |    Strong   |     67.0     |           NDA           |           NDA            |       Weak       |        30.0       |    Very Weak     |        18.0       |     Weak     |      NDA      |      NDA      |      NDA       |          NDA           |           NDA           |           NDA           |           NDA            |           94.70%           |                  28.1                  |           95.00%           |                     100.00%                      |       56.3      |     NDA     |           33.5           |           33.5           |          49.5          |          49.5          |           27.4           |           39.3           |          35.5         |          44.4          |          25         |         23.4        |          18.0         |           12.8           |         -1.8        |         0.1         |            Red            |           Yellow          |            NDA             |             NDA             |           NDA            |           NDA            |          NDA           |          NDA           |             NDA             |              NDA              |           NDA           |          NDA          |        NDA        |            NDA            |        620         |           35           |           NDA            | 1161265.299  | 1909314.592  | 41.90684338 | -87.68304259 |           24          |      WEST TOWN      |  1   |        14       | (41.90684338, -87.68304259) |\n",
       "|   610524  |              Alcott High School for the Humanities              |                 HS                 |    2957 N Hoyne Ave   | Chicago |   IL  |  60618   | (773) 534-5979 | <a href=http://schoolreports.cps.edu/SchoolProgressReport_Eng/Spring2011Eng_610524.pdf>http://schoolreports.cps.edu/SchoolProgressReport_Eng/Spring2011Eng_610524.pdf</a> | North-Northwest Side High School Network | NORTH-NORTHWEST SIDE COLLABORATIVE |              NDA               |    Standard    |        Not on Probation       |       Not Enough Data        |            No            |    Strong   |     70.0     |           NDA           |           NDA            |      Strong      |        67.0       |     Average      |        51.0       |     Weak     |      NDA      |      NDA      |      NDA       |         Strong         |            57           |           Weak          |            43            |           92.70%           |                  7.1                   |           96.90%           |                     100.00%                      |       NDA       |     NDA     |           NDA            |           NDA            |          NDA           |          NDA           |           NDA            |           NDA            |          NDA          |          NDA           |         NDA         |         NDA         |          None         |           None           |         None        |         None        |            NDA            |            NDA            |            NDA             |             NDA             |           14.7           |           13.7           |          NDA           |           16           |             1.3             |              NDA              |           NDA           |          NDA          |        NDA        |            NDA            |        232         |           33           |           87.6           | 1161870.556  |  1919857.44  | 41.93576106 | -87.68052441 |           5           |     NORTH CENTER    |  1   |        19       | (41.93576106, -87.68052441) |\n",
       "|   610209  |                Alessandro Volta Elementary School               |                 ES                 |    4950 N Avers Ave   | Chicago |   IL  |  60625   | (773) 534-5080 | <a href=http://schoolreports.cps.edu/SchoolProgressReport_Eng/Spring2011Eng_610209.pdf>http://schoolreports.cps.edu/SchoolProgressReport_Eng/Spring2011Eng_610209.pdf</a> |        O'Hare Elementary Network         | NORTH-NORTHWEST SIDE COLLABORATIVE |               No               |    Track_E     |        Not on Probation       |           Level 2            |            No            |   Average   |     43.0     |          Strong         |            61            |       Weak       |        28.0       |       Weak       |        37.0       |     Weak     |       62      |    Average    |       56       |        Average         |            51           |         Average         |            53            |           96.40%           |                  22.5                  |           95.90%           |                     100.00%                      |       63.9      |     43.2    |           51.3           |           32.9           |          50.7          |           70           |           52.5           |           31.3           |          59.8         |          57.6          |         16.5        |         24.7        |          19.9         |           14.2           |         0.3         |         -0.4        |           Yellow          |           Yellow          |            31.6            |             65.2            |           NDA            |           NDA            |          NDA           |          NDA           |             NDA             |              NDA              |           NDA           |          NDA          |        NDA        |            NDA            |        1023        |           31           |           NDA            | 1149774.095  | 1932831.151  | 41.97160605 | -87.72464139 |           14          |     ALBANY PARK     |  39  |        17       | (41.97160605, -87.72464139) |\n",
       "+-----------+-----------------------------------------------------------------+------------------------------------+-----------------------+---------+-------+----------+----------------+---------------------------------------------------------------------------------------------------------------------------------------------------------------------------+------------------------------------------+------------------------------------+--------------------------------+----------------+-------------------------------+------------------------------+--------------------------+-------------+--------------+-------------------------+--------------------------+------------------+-------------------+------------------+-------------------+--------------+---------------+---------------+----------------+------------------------+-------------------------+-------------------------+--------------------------+----------------------------+----------------------------------------+----------------------------+--------------------------------------------------+-----------------+-------------+--------------------------+--------------------------+------------------------+------------------------+--------------------------+--------------------------+-----------------------+------------------------+---------------------+---------------------+-----------------------+--------------------------+---------------------+---------------------+---------------------------+---------------------------+----------------------------+-----------------------------+--------------------------+--------------------------+------------------------+------------------------+-----------------------------+-------------------------------+-------------------------+-----------------------+-------------------+---------------------------+--------------------+------------------------+--------------------------+--------------+--------------+-------------+--------------+-----------------------+---------------------+------+-----------------+-----------------------------+\n",
       "Truncated to displaylimit of 10."
      ]
     },
     "execution_count": 9,
     "metadata": {},
     "output_type": "execute_result"
    }
   ],
   "source": [
    "%sql SELECT * FROM CHICAGO_PUBLIC_SCHOOLS_DATA"
   ]
  },
  {
   "cell_type": "code",
   "execution_count": 10,
   "metadata": {},
   "outputs": [
    {
     "data": {
      "text/html": [
       "<span style=\"None\">Running query in &#x27;sqlite:///RealWorldData.db&#x27;</span>"
      ],
      "text/plain": [
       "Running query in 'sqlite:///RealWorldData.db'"
      ]
     },
     "metadata": {},
     "output_type": "display_data"
    },
    {
     "data": {
      "text/html": [
       "<table>\n",
       "    <thead>\n",
       "        <tr>\n",
       "            <th>Elementary, Middle, or High School</th>\n",
       "            <th>count(*)</th>\n",
       "        </tr>\n",
       "    </thead>\n",
       "    <tbody>\n",
       "        <tr>\n",
       "            <td>ES</td>\n",
       "            <td>462</td>\n",
       "        </tr>\n",
       "    </tbody>\n",
       "</table>"
      ],
      "text/plain": [
       "+------------------------------------+----------+\n",
       "| Elementary, Middle, or High School | count(*) |\n",
       "+------------------------------------+----------+\n",
       "|                 ES                 |   462    |\n",
       "+------------------------------------+----------+"
      ]
     },
     "execution_count": 10,
     "metadata": {},
     "output_type": "execute_result"
    }
   ],
   "source": [
    "%%sql\n",
    "SELECT \"Elementary, Middle, or High School\", COUNT(*)\n",
    "FROM CHICAGO_PUBLIC_SCHOOLS_DATA\n",
    "WHERE \"Elementary, Middle, or High School\" = \"ES\""
   ]
  },
  {
   "cell_type": "markdown",
   "metadata": {},
   "source": [
    "Double-click **here** for a hint\n",
    "\n",
    "<!--\n",
    "Which column specifies the school type e.g. 'ES', 'MS', 'HS'? (\"Elementary School, Middle School, High School\")\n",
    "-->\n"
   ]
  },
  {
   "cell_type": "markdown",
   "metadata": {},
   "source": [
    "Double-click **here** for another hint\n",
    "\n",
    "<!--\n",
    "Does the column name have mixed case, spaces or other special characters?\n",
    "If so, ensure you use double quotes around the \"Name of the Column\"\n",
    "-->\n"
   ]
  },
  {
   "cell_type": "markdown",
   "metadata": {},
   "source": [
    "Double-click **here** for the solution.\n",
    "\n",
    "<!-- Solution:\n",
    "\n",
    "%sql select count(*) from CHICAGO_PUBLIC_SCHOOLS_DATA where \"Elementary, Middle, or High School\"='ES'\n",
    "\n",
    "Correct answer: 462\n",
    "\n",
    "-->\n"
   ]
  },
  {
   "cell_type": "markdown",
   "metadata": {},
   "source": [
    "### Problem 2\n",
    "\n",
    "##### What is the highest Safety Score?\n"
   ]
  },
  {
   "cell_type": "code",
   "execution_count": 11,
   "metadata": {},
   "outputs": [
    {
     "data": {
      "text/html": [
       "<span style=\"None\">Running query in &#x27;sqlite:///RealWorldData.db&#x27;</span>"
      ],
      "text/plain": [
       "Running query in 'sqlite:///RealWorldData.db'"
      ]
     },
     "metadata": {},
     "output_type": "display_data"
    },
    {
     "data": {
      "text/html": [
       "<table>\n",
       "    <thead>\n",
       "        <tr>\n",
       "            <th>MAX(SAFETY_SCORE)</th>\n",
       "        </tr>\n",
       "    </thead>\n",
       "    <tbody>\n",
       "        <tr>\n",
       "            <td>99.0</td>\n",
       "        </tr>\n",
       "    </tbody>\n",
       "</table>"
      ],
      "text/plain": [
       "+-------------------+\n",
       "| MAX(SAFETY_SCORE) |\n",
       "+-------------------+\n",
       "|        99.0       |\n",
       "+-------------------+"
      ]
     },
     "execution_count": 11,
     "metadata": {},
     "output_type": "execute_result"
    }
   ],
   "source": [
    "%sql SELECT MAX(SAFETY_SCORE) FROM CHICAGO_PUBLIC_SCHOOLS_DATA"
   ]
  },
  {
   "cell_type": "markdown",
   "metadata": {},
   "source": [
    "Double-click **here** for a hint\n",
    "\n",
    "<!--\n",
    "Use the MAX() function\n",
    "-->\n"
   ]
  },
  {
   "cell_type": "markdown",
   "metadata": {},
   "source": [
    "Double-click **here** for the solution.\n",
    "\n",
    "<!-- Hint:\n",
    "\n",
    "%sql select MAX(Safety_Score) AS MAX_SAFETY_SCORE from CHICAGO_PUBLIC_SCHOOLS_DATA\n",
    "\n",
    "Correct answer: 99\n",
    "-->\n"
   ]
  },
  {
   "cell_type": "markdown",
   "metadata": {},
   "source": [
    "### Problem 3\n",
    "\n",
    "##### Which schools have highest Safety Score?\n"
   ]
  },
  {
   "cell_type": "code",
   "execution_count": 12,
   "metadata": {},
   "outputs": [
    {
     "data": {
      "text/html": [
       "<span style=\"None\">Running query in &#x27;sqlite:///RealWorldData.db&#x27;</span>"
      ],
      "text/plain": [
       "Running query in 'sqlite:///RealWorldData.db'"
      ]
     },
     "metadata": {},
     "output_type": "display_data"
    },
    {
     "data": {
      "text/html": [
       "<table>\n",
       "    <thead>\n",
       "        <tr>\n",
       "            <th>NAME_OF_SCHOOL</th>\n",
       "            <th>MAX(SAFETY_SCORE)</th>\n",
       "        </tr>\n",
       "    </thead>\n",
       "    <tbody>\n",
       "        <tr>\n",
       "            <td>Abraham Lincoln Elementary School</td>\n",
       "            <td>99.0</td>\n",
       "        </tr>\n",
       "    </tbody>\n",
       "</table>"
      ],
      "text/plain": [
       "+-----------------------------------+-------------------+\n",
       "|           NAME_OF_SCHOOL          | MAX(SAFETY_SCORE) |\n",
       "+-----------------------------------+-------------------+\n",
       "| Abraham Lincoln Elementary School |        99.0       |\n",
       "+-----------------------------------+-------------------+"
      ]
     },
     "execution_count": 12,
     "metadata": {},
     "output_type": "execute_result"
    }
   ],
   "source": [
    "%sql SELECT NAME_OF_SCHOOL, MAX(SAFETY_SCORE) FROM CHICAGO_PUBLIC_SCHOOLS_DATA"
   ]
  },
  {
   "cell_type": "markdown",
   "metadata": {},
   "source": [
    "Double-click **here** for the solution.\n",
    "\n",
    "<!-- Solution:\n",
    "In the previous problem we found out that the highest Safety Score is 99, so we can use that as an input in the where clause:\n",
    "\n",
    "%sql select Name_of_School, Safety_Score from CHICAGO_PUBLIC_SCHOOLS_DATA where Safety_Score = 99\n",
    "\n",
    "or, a better way:\n",
    "\n",
    "%sql select Name_of_School, Safety_Score from CHICAGO_PUBLIC_SCHOOLS_DATA where \\\n",
    "  Safety_Score= (select MAX(Safety_Score) from CHICAGO_PUBLIC_SCHOOLS_DATA)\n",
    "\n",
    "\n",
    "Correct answer: several schools with with Safety Score of 99.\n",
    "-->\n"
   ]
  },
  {
   "cell_type": "markdown",
   "metadata": {},
   "source": [
    "### Problem 4\n",
    "\n",
    "##### What are the top 10 schools with the highest \"Average Student Attendance\"?\n"
   ]
  },
  {
   "cell_type": "code",
   "execution_count": 13,
   "metadata": {},
   "outputs": [
    {
     "data": {
      "text/html": [
       "<span style=\"None\">Running query in &#x27;sqlite:///RealWorldData.db&#x27;</span>"
      ],
      "text/plain": [
       "Running query in 'sqlite:///RealWorldData.db'"
      ]
     },
     "metadata": {},
     "output_type": "display_data"
    },
    {
     "data": {
      "text/html": [
       "<table>\n",
       "    <thead>\n",
       "        <tr>\n",
       "            <th>NAME_OF_SCHOOL</th>\n",
       "            <th>AVERAGE_STUDENT_ATTENDANCE</th>\n",
       "        </tr>\n",
       "    </thead>\n",
       "    <tbody>\n",
       "        <tr>\n",
       "            <td>John Charles Haines Elementary School</td>\n",
       "            <td>98.40%</td>\n",
       "        </tr>\n",
       "        <tr>\n",
       "            <td>James Ward Elementary School</td>\n",
       "            <td>97.80%</td>\n",
       "        </tr>\n",
       "        <tr>\n",
       "            <td>Edgar Allan Poe Elementary Classical School</td>\n",
       "            <td>97.60%</td>\n",
       "        </tr>\n",
       "        <tr>\n",
       "            <td>Orozco Fine Arts & Sciences Elementary School</td>\n",
       "            <td>97.60%</td>\n",
       "        </tr>\n",
       "        <tr>\n",
       "            <td>Rachel Carson Elementary School</td>\n",
       "            <td>97.60%</td>\n",
       "        </tr>\n",
       "        <tr>\n",
       "            <td>Annie Keller Elementary Gifted Magnet School</td>\n",
       "            <td>97.50%</td>\n",
       "        </tr>\n",
       "        <tr>\n",
       "            <td>Andrew Jackson Elementary Language Academy</td>\n",
       "            <td>97.40%</td>\n",
       "        </tr>\n",
       "        <tr>\n",
       "            <td>Lenart Elementary Regional Gifted Center</td>\n",
       "            <td>97.40%</td>\n",
       "        </tr>\n",
       "        <tr>\n",
       "            <td>Disney II Magnet School</td>\n",
       "            <td>97.30%</td>\n",
       "        </tr>\n",
       "        <tr>\n",
       "            <td>John H Vanderpoel Elementary Magnet School</td>\n",
       "            <td>97.20%</td>\n",
       "        </tr>\n",
       "    </tbody>\n",
       "</table>\n",
       "<span style=\"font-style:italic;text-align:center;\">Truncated to <a href=\"https://jupysql.ploomber.io/en/latest/api/configuration.html#displaylimit\">displaylimit</a> of 10.</span>"
      ],
      "text/plain": [
       "+-----------------------------------------------+----------------------------+\n",
       "|                 NAME_OF_SCHOOL                | AVERAGE_STUDENT_ATTENDANCE |\n",
       "+-----------------------------------------------+----------------------------+\n",
       "|     John Charles Haines Elementary School     |           98.40%           |\n",
       "|          James Ward Elementary School         |           97.80%           |\n",
       "|  Edgar Allan Poe Elementary Classical School  |           97.60%           |\n",
       "| Orozco Fine Arts & Sciences Elementary School |           97.60%           |\n",
       "|        Rachel Carson Elementary School        |           97.60%           |\n",
       "|  Annie Keller Elementary Gifted Magnet School |           97.50%           |\n",
       "|   Andrew Jackson Elementary Language Academy  |           97.40%           |\n",
       "|    Lenart Elementary Regional Gifted Center   |           97.40%           |\n",
       "|            Disney II Magnet School            |           97.30%           |\n",
       "|   John H Vanderpoel Elementary Magnet School  |           97.20%           |\n",
       "+-----------------------------------------------+----------------------------+\n",
       "Truncated to displaylimit of 10."
      ]
     },
     "execution_count": 13,
     "metadata": {},
     "output_type": "execute_result"
    }
   ],
   "source": [
    "%%sql\n",
    "SELECT NAME_OF_SCHOOL, AVERAGE_STUDENT_ATTENDANCE\n",
    "FROM CHICAGO_PUBLIC_SCHOOLS_DATA\n",
    "ORDER BY AVERAGE_STUDENT_ATTENDANCE DESC\n",
    "LIMIT 10"
   ]
  },
  {
   "cell_type": "markdown",
   "metadata": {},
   "source": [
    "Double-click **here** for the solution.\n",
    "\n",
    "<!-- Solution:\n",
    "\n",
    "%sql select Name_of_School, Average_Student_Attendance from CHICAGO_PUBLIC_SCHOOLS_DATA \\\n",
    "    order by Average_Student_Attendance desc nulls last limit 10 \n",
    "\n",
    "-->\n"
   ]
  },
  {
   "cell_type": "markdown",
   "metadata": {},
   "source": [
    "### Problem 5\n",
    "\n",
    "##### Retrieve the list of 5 Schools with the lowest Average Student Attendance sorted in ascending order based on attendance\n"
   ]
  },
  {
   "cell_type": "code",
   "execution_count": 14,
   "metadata": {},
   "outputs": [
    {
     "data": {
      "text/html": [
       "<span style=\"None\">Running query in &#x27;sqlite:///RealWorldData.db&#x27;</span>"
      ],
      "text/plain": [
       "Running query in 'sqlite:///RealWorldData.db'"
      ]
     },
     "metadata": {},
     "output_type": "display_data"
    },
    {
     "data": {
      "text/html": [
       "<table>\n",
       "    <thead>\n",
       "        <tr>\n",
       "            <th>NAME_OF_SCHOOL</th>\n",
       "            <th>AVERAGE_STUDENT_ATTENDANCE</th>\n",
       "        </tr>\n",
       "    </thead>\n",
       "    <tbody>\n",
       "        <tr>\n",
       "            <td>Velma F Thomas Early Childhood Center</td>\n",
       "            <td>None</td>\n",
       "        </tr>\n",
       "        <tr>\n",
       "            <td>Richard T Crane Technical Preparatory High School</td>\n",
       "            <td>57.90%</td>\n",
       "        </tr>\n",
       "        <tr>\n",
       "            <td>Barbara Vick Early Childhood & Family Center</td>\n",
       "            <td>60.90%</td>\n",
       "        </tr>\n",
       "        <tr>\n",
       "            <td>Dyett High School</td>\n",
       "            <td>62.50%</td>\n",
       "        </tr>\n",
       "        <tr>\n",
       "            <td>Wendell Phillips Academy High School</td>\n",
       "            <td>63.00%</td>\n",
       "        </tr>\n",
       "    </tbody>\n",
       "</table>"
      ],
      "text/plain": [
       "+---------------------------------------------------+----------------------------+\n",
       "|                   NAME_OF_SCHOOL                  | AVERAGE_STUDENT_ATTENDANCE |\n",
       "+---------------------------------------------------+----------------------------+\n",
       "|       Velma F Thomas Early Childhood Center       |            None            |\n",
       "| Richard T Crane Technical Preparatory High School |           57.90%           |\n",
       "|    Barbara Vick Early Childhood & Family Center   |           60.90%           |\n",
       "|                 Dyett High School                 |           62.50%           |\n",
       "|        Wendell Phillips Academy High School       |           63.00%           |\n",
       "+---------------------------------------------------+----------------------------+"
      ]
     },
     "execution_count": 14,
     "metadata": {},
     "output_type": "execute_result"
    }
   ],
   "source": [
    "%%sql\n",
    "SELECT NAME_OF_SCHOOL, AVERAGE_STUDENT_ATTENDANCE\n",
    "FROM CHICAGO_PUBLIC_SCHOOLS_DATA\n",
    "ORDER BY AVERAGE_STUDENT_ATTENDANCE ASC\n",
    "LIMIT 5"
   ]
  },
  {
   "cell_type": "markdown",
   "metadata": {},
   "source": [
    "Double-click **here** for the solution.\n",
    "\n",
    "<!-- Solution:\n",
    "\n",
    "%sql SELECT Name_of_School, Average_Student_Attendance  \\\n",
    "     from CHICAGO_PUBLIC_SCHOOLS_DATA \\\n",
    "     order by Average_Student_Attendance \\\n",
    "     LIMIT 5\n",
    "\n",
    "-->\n"
   ]
  },
  {
   "cell_type": "markdown",
   "metadata": {},
   "source": [
    "### Problem 6\n",
    "\n",
    "##### Now remove the '%' sign from the above result set for Average Student Attendance column\n"
   ]
  },
  {
   "cell_type": "code",
   "execution_count": 15,
   "metadata": {},
   "outputs": [
    {
     "data": {
      "text/html": [
       "<span style=\"None\">Running query in &#x27;sqlite:///RealWorldData.db&#x27;</span>"
      ],
      "text/plain": [
       "Running query in 'sqlite:///RealWorldData.db'"
      ]
     },
     "metadata": {},
     "output_type": "display_data"
    },
    {
     "data": {
      "text/html": [
       "<table>\n",
       "    <thead>\n",
       "        <tr>\n",
       "            <th>NAME_OF_SCHOOL</th>\n",
       "            <th>REPLACE(AVERAGE_STUDENT_ATTENDANCE, \"%\", \"\")</th>\n",
       "        </tr>\n",
       "    </thead>\n",
       "    <tbody>\n",
       "        <tr>\n",
       "            <td>Velma F Thomas Early Childhood Center</td>\n",
       "            <td>None</td>\n",
       "        </tr>\n",
       "        <tr>\n",
       "            <td>Richard T Crane Technical Preparatory High School</td>\n",
       "            <td>57.90</td>\n",
       "        </tr>\n",
       "        <tr>\n",
       "            <td>Barbara Vick Early Childhood & Family Center</td>\n",
       "            <td>60.90</td>\n",
       "        </tr>\n",
       "        <tr>\n",
       "            <td>Dyett High School</td>\n",
       "            <td>62.50</td>\n",
       "        </tr>\n",
       "        <tr>\n",
       "            <td>Wendell Phillips Academy High School</td>\n",
       "            <td>63.00</td>\n",
       "        </tr>\n",
       "    </tbody>\n",
       "</table>"
      ],
      "text/plain": [
       "+---------------------------------------------------+----------------------------------------------+\n",
       "|                   NAME_OF_SCHOOL                  | REPLACE(AVERAGE_STUDENT_ATTENDANCE, \"%\", \"\") |\n",
       "+---------------------------------------------------+----------------------------------------------+\n",
       "|       Velma F Thomas Early Childhood Center       |                     None                     |\n",
       "| Richard T Crane Technical Preparatory High School |                    57.90                     |\n",
       "|    Barbara Vick Early Childhood & Family Center   |                    60.90                     |\n",
       "|                 Dyett High School                 |                    62.50                     |\n",
       "|        Wendell Phillips Academy High School       |                    63.00                     |\n",
       "+---------------------------------------------------+----------------------------------------------+"
      ]
     },
     "execution_count": 15,
     "metadata": {},
     "output_type": "execute_result"
    }
   ],
   "source": [
    "%%sql\n",
    "SELECT NAME_OF_SCHOOL, REPLACE(AVERAGE_STUDENT_ATTENDANCE, \"%\", \"\")\n",
    "FROM CHICAGO_PUBLIC_SCHOOLS_DATA\n",
    "ORDER BY AVERAGE_STUDENT_ATTENDANCE ASC\n",
    "LIMIT 5"
   ]
  },
  {
   "cell_type": "markdown",
   "metadata": {},
   "source": [
    "Double-click **here** for a hint\n",
    "\n",
    "<!--\n",
    "Use the REPLACE() function to replace '%' with ''\n",
    "\n",
    "-->\n"
   ]
  },
  {
   "cell_type": "markdown",
   "metadata": {},
   "source": [
    "Double-click **here** for the solution.\n",
    "\n",
    "<!-- Hint:\n",
    "\n",
    "%sql SELECT Name_of_School, REPLACE(Average_Student_Attendance, '%', '') \\\n",
    "     from CHICAGO_PUBLIC_SCHOOLS_DATA \\\n",
    "     order by Average_Student_Attendance \\\n",
    "     LIMIT 5\n",
    "\n",
    "-->\n"
   ]
  },
  {
   "cell_type": "markdown",
   "metadata": {},
   "source": [
    "### Problem 7\n",
    "\n",
    "##### Which Schools have Average Student Attendance lower than 70%?\n"
   ]
  },
  {
   "cell_type": "code",
   "execution_count": 16,
   "metadata": {},
   "outputs": [
    {
     "data": {
      "text/html": [
       "<span style=\"None\">Running query in &#x27;sqlite:///RealWorldData.db&#x27;</span>"
      ],
      "text/plain": [
       "Running query in 'sqlite:///RealWorldData.db'"
      ]
     },
     "metadata": {},
     "output_type": "display_data"
    },
    {
     "data": {
      "text/html": [
       "<table>\n",
       "    <thead>\n",
       "        <tr>\n",
       "            <th>NAME_OF_SCHOOL</th>\n",
       "            <th>AVERAGE_STUDENT_ATTENDANCE</th>\n",
       "        </tr>\n",
       "    </thead>\n",
       "    <tbody>\n",
       "        <tr>\n",
       "            <td>Richard T Crane Technical Preparatory High School</td>\n",
       "            <td>57.90%</td>\n",
       "        </tr>\n",
       "        <tr>\n",
       "            <td>Barbara Vick Early Childhood & Family Center</td>\n",
       "            <td>60.90%</td>\n",
       "        </tr>\n",
       "        <tr>\n",
       "            <td>Dyett High School</td>\n",
       "            <td>62.50%</td>\n",
       "        </tr>\n",
       "        <tr>\n",
       "            <td>Wendell Phillips Academy High School</td>\n",
       "            <td>63.00%</td>\n",
       "        </tr>\n",
       "        <tr>\n",
       "            <td>Orr Academy High School</td>\n",
       "            <td>66.30%</td>\n",
       "        </tr>\n",
       "        <tr>\n",
       "            <td>Manley Career Academy High School</td>\n",
       "            <td>66.80%</td>\n",
       "        </tr>\n",
       "        <tr>\n",
       "            <td>Chicago Vocational Career Academy High School</td>\n",
       "            <td>68.80%</td>\n",
       "        </tr>\n",
       "        <tr>\n",
       "            <td>Roberto Clemente Community Academy High School</td>\n",
       "            <td>69.60%</td>\n",
       "        </tr>\n",
       "    </tbody>\n",
       "</table>"
      ],
      "text/plain": [
       "+---------------------------------------------------+----------------------------+\n",
       "|                   NAME_OF_SCHOOL                  | AVERAGE_STUDENT_ATTENDANCE |\n",
       "+---------------------------------------------------+----------------------------+\n",
       "| Richard T Crane Technical Preparatory High School |           57.90%           |\n",
       "|    Barbara Vick Early Childhood & Family Center   |           60.90%           |\n",
       "|                 Dyett High School                 |           62.50%           |\n",
       "|        Wendell Phillips Academy High School       |           63.00%           |\n",
       "|              Orr Academy High School              |           66.30%           |\n",
       "|         Manley Career Academy High School         |           66.80%           |\n",
       "|   Chicago Vocational Career Academy High School   |           68.80%           |\n",
       "|   Roberto Clemente Community Academy High School  |           69.60%           |\n",
       "+---------------------------------------------------+----------------------------+"
      ]
     },
     "execution_count": 16,
     "metadata": {},
     "output_type": "execute_result"
    }
   ],
   "source": [
    "%%sql\n",
    "SELECT NAME_OF_SCHOOL, AVERAGE_STUDENT_ATTENDANCE\n",
    "FROM CHICAGO_PUBLIC_SCHOOLS_DATA\n",
    "WHERE CAST(REPLACE(AVERAGE_STUDENT_ATTENDANCE, \"%\", \"\") AS DOUBLE) < 70\n",
    "ORDER BY AVERAGE_STUDENT_ATTENDANCE ASC"
   ]
  },
  {
   "cell_type": "markdown",
   "metadata": {},
   "source": [
    "Double-click **here** for a hint\n",
    "\n",
    "<!--\n",
    "The datatype of the \"Average_Student_Attendance\" column is varchar.\n",
    "So you cannot use it as is in the where clause for a numeric comparison.\n",
    "First use the CAST() function to cast it as a DECIMAL or DOUBLE\n",
    "e.g. CAST(\"Column_Name\" as DOUBLE)\n",
    "\n",
    "-->\n"
   ]
  },
  {
   "cell_type": "markdown",
   "metadata": {},
   "source": [
    "Double-click **here** for another hint\n",
    "\n",
    "<!--\n",
    "Don't forget the '%' age sign needs to be removed before casting\n",
    "-->\n"
   ]
  },
  {
   "cell_type": "markdown",
   "metadata": {},
   "source": [
    "Double-click **here** for the solution.\n",
    "\n",
    "<!-- Solution:\n",
    "\n",
    "%sql SELECT Name_of_School, Average_Student_Attendance  \\\n",
    "     from CHICAGO_PUBLIC_SCHOOLS_DATA \\\n",
    "     where CAST ( REPLACE(Average_Student_Attendance, '%', '') AS DOUBLE ) < 70 \\\n",
    "     order by Average_Student_Attendance\n",
    "     \n",
    "\n",
    "-->\n"
   ]
  },
  {
   "cell_type": "markdown",
   "metadata": {},
   "source": [
    "### Problem 8\n",
    "\n",
    "##### Get the total College Enrollment for each Community Area\n"
   ]
  },
  {
   "cell_type": "code",
   "execution_count": 17,
   "metadata": {},
   "outputs": [
    {
     "data": {
      "text/html": [
       "<span style=\"None\">Running query in &#x27;sqlite:///RealWorldData.db&#x27;</span>"
      ],
      "text/plain": [
       "Running query in 'sqlite:///RealWorldData.db'"
      ]
     },
     "metadata": {},
     "output_type": "display_data"
    },
    {
     "data": {
      "text/html": [
       "<table>\n",
       "    <thead>\n",
       "        <tr>\n",
       "            <th>COMMUNITY_AREA_NUMBER</th>\n",
       "            <th>COMMUNITY_AREA_NAME</th>\n",
       "            <th>PERCENT_OF_HOUSING_CROWDED</th>\n",
       "            <th>PERCENT_HOUSEHOLDS_BELOW_POVERTY</th>\n",
       "            <th>PERCENT_AGED_16__UNEMPLOYED</th>\n",
       "            <th>PERCENT_AGED_25__WITHOUT_HIGH_SCHOOL_DIPLOMA</th>\n",
       "            <th>PERCENT_AGED_UNDER_18_OR_OVER_64</th>\n",
       "            <th>PER_CAPITA_INCOME</th>\n",
       "            <th>HARDSHIP_INDEX</th>\n",
       "        </tr>\n",
       "    </thead>\n",
       "    <tbody>\n",
       "        <tr>\n",
       "            <td>1.0</td>\n",
       "            <td>Rogers Park</td>\n",
       "            <td>7.7</td>\n",
       "            <td>23.6</td>\n",
       "            <td>8.7</td>\n",
       "            <td>18.2</td>\n",
       "            <td>27.5</td>\n",
       "            <td>23939</td>\n",
       "            <td>39.0</td>\n",
       "        </tr>\n",
       "        <tr>\n",
       "            <td>2.0</td>\n",
       "            <td>West Ridge</td>\n",
       "            <td>7.8</td>\n",
       "            <td>17.2</td>\n",
       "            <td>8.8</td>\n",
       "            <td>20.8</td>\n",
       "            <td>38.5</td>\n",
       "            <td>23040</td>\n",
       "            <td>46.0</td>\n",
       "        </tr>\n",
       "        <tr>\n",
       "            <td>3.0</td>\n",
       "            <td>Uptown</td>\n",
       "            <td>3.8</td>\n",
       "            <td>24.0</td>\n",
       "            <td>8.9</td>\n",
       "            <td>11.8</td>\n",
       "            <td>22.2</td>\n",
       "            <td>35787</td>\n",
       "            <td>20.0</td>\n",
       "        </tr>\n",
       "        <tr>\n",
       "            <td>4.0</td>\n",
       "            <td>Lincoln Square</td>\n",
       "            <td>3.4</td>\n",
       "            <td>10.9</td>\n",
       "            <td>8.2</td>\n",
       "            <td>13.4</td>\n",
       "            <td>25.5</td>\n",
       "            <td>37524</td>\n",
       "            <td>17.0</td>\n",
       "        </tr>\n",
       "        <tr>\n",
       "            <td>5.0</td>\n",
       "            <td>North Center</td>\n",
       "            <td>0.3</td>\n",
       "            <td>7.5</td>\n",
       "            <td>5.2</td>\n",
       "            <td>4.5</td>\n",
       "            <td>26.2</td>\n",
       "            <td>57123</td>\n",
       "            <td>6.0</td>\n",
       "        </tr>\n",
       "        <tr>\n",
       "            <td>6.0</td>\n",
       "            <td>Lake View</td>\n",
       "            <td>1.1</td>\n",
       "            <td>11.4</td>\n",
       "            <td>4.7</td>\n",
       "            <td>2.6</td>\n",
       "            <td>17.0</td>\n",
       "            <td>60058</td>\n",
       "            <td>5.0</td>\n",
       "        </tr>\n",
       "        <tr>\n",
       "            <td>7.0</td>\n",
       "            <td>Lincoln Park</td>\n",
       "            <td>0.8</td>\n",
       "            <td>12.3</td>\n",
       "            <td>5.1</td>\n",
       "            <td>3.6</td>\n",
       "            <td>21.5</td>\n",
       "            <td>71551</td>\n",
       "            <td>2.0</td>\n",
       "        </tr>\n",
       "        <tr>\n",
       "            <td>8.0</td>\n",
       "            <td>Near North Side</td>\n",
       "            <td>1.9</td>\n",
       "            <td>12.9</td>\n",
       "            <td>7.0</td>\n",
       "            <td>2.5</td>\n",
       "            <td>22.6</td>\n",
       "            <td>88669</td>\n",
       "            <td>1.0</td>\n",
       "        </tr>\n",
       "        <tr>\n",
       "            <td>9.0</td>\n",
       "            <td>Edison Park</td>\n",
       "            <td>1.1</td>\n",
       "            <td>3.3</td>\n",
       "            <td>6.5</td>\n",
       "            <td>7.4</td>\n",
       "            <td>35.3</td>\n",
       "            <td>40959</td>\n",
       "            <td>8.0</td>\n",
       "        </tr>\n",
       "        <tr>\n",
       "            <td>10.0</td>\n",
       "            <td>Norwood Park</td>\n",
       "            <td>2.0</td>\n",
       "            <td>5.4</td>\n",
       "            <td>9.0</td>\n",
       "            <td>11.5</td>\n",
       "            <td>39.5</td>\n",
       "            <td>32875</td>\n",
       "            <td>21.0</td>\n",
       "        </tr>\n",
       "    </tbody>\n",
       "</table>\n",
       "<span style=\"font-style:italic;text-align:center;\">Truncated to <a href=\"https://jupysql.ploomber.io/en/latest/api/configuration.html#displaylimit\">displaylimit</a> of 10.</span>"
      ],
      "text/plain": [
       "+-----------------------+---------------------+----------------------------+----------------------------------+-----------------------------+----------------------------------------------+----------------------------------+-------------------+----------------+\n",
       "| COMMUNITY_AREA_NUMBER | COMMUNITY_AREA_NAME | PERCENT_OF_HOUSING_CROWDED | PERCENT_HOUSEHOLDS_BELOW_POVERTY | PERCENT_AGED_16__UNEMPLOYED | PERCENT_AGED_25__WITHOUT_HIGH_SCHOOL_DIPLOMA | PERCENT_AGED_UNDER_18_OR_OVER_64 | PER_CAPITA_INCOME | HARDSHIP_INDEX |\n",
       "+-----------------------+---------------------+----------------------------+----------------------------------+-----------------------------+----------------------------------------------+----------------------------------+-------------------+----------------+\n",
       "|          1.0          |     Rogers Park     |            7.7             |               23.6               |             8.7             |                     18.2                     |               27.5               |       23939       |      39.0      |\n",
       "|          2.0          |      West Ridge     |            7.8             |               17.2               |             8.8             |                     20.8                     |               38.5               |       23040       |      46.0      |\n",
       "|          3.0          |        Uptown       |            3.8             |               24.0               |             8.9             |                     11.8                     |               22.2               |       35787       |      20.0      |\n",
       "|          4.0          |    Lincoln Square   |            3.4             |               10.9               |             8.2             |                     13.4                     |               25.5               |       37524       |      17.0      |\n",
       "|          5.0          |     North Center    |            0.3             |               7.5                |             5.2             |                     4.5                      |               26.2               |       57123       |      6.0       |\n",
       "|          6.0          |      Lake View      |            1.1             |               11.4               |             4.7             |                     2.6                      |               17.0               |       60058       |      5.0       |\n",
       "|          7.0          |     Lincoln Park    |            0.8             |               12.3               |             5.1             |                     3.6                      |               21.5               |       71551       |      2.0       |\n",
       "|          8.0          |   Near North Side   |            1.9             |               12.9               |             7.0             |                     2.5                      |               22.6               |       88669       |      1.0       |\n",
       "|          9.0          |     Edison Park     |            1.1             |               3.3                |             6.5             |                     7.4                      |               35.3               |       40959       |      8.0       |\n",
       "|          10.0         |     Norwood Park    |            2.0             |               5.4                |             9.0             |                     11.5                     |               39.5               |       32875       |      21.0      |\n",
       "+-----------------------+---------------------+----------------------------+----------------------------------+-----------------------------+----------------------------------------------+----------------------------------+-------------------+----------------+\n",
       "Truncated to displaylimit of 10."
      ]
     },
     "execution_count": 17,
     "metadata": {},
     "output_type": "execute_result"
    }
   ],
   "source": [
    "%sql SELECT * FROM CENSUS_DATA"
   ]
  },
  {
   "cell_type": "markdown",
   "metadata": {},
   "source": [
    "Double-click **here** for a hint\n",
    "\n",
    "<!--\n",
    "Verify the exact name of the Enrollment column in the database\n",
    "Use the SUM() function to add up the Enrollments for each Community Area\n",
    "-->\n"
   ]
  },
  {
   "cell_type": "markdown",
   "metadata": {},
   "source": [
    "Double-click **here** for another hint\n",
    "\n",
    "<!--\n",
    "Don't forget to group by the Community Area\n",
    "-->\n"
   ]
  },
  {
   "cell_type": "markdown",
   "metadata": {},
   "source": [
    "Double-click **here** for the solution.\n",
    "\n",
    "<!-- Solution:\n",
    "\n",
    "%sql select Community_Area_Name, sum(College_Enrollment) AS TOTAL_ENROLLMENT \\\n",
    "   from CHICAGO_PUBLIC_SCHOOLS_DATA \\\n",
    "   group by Community_Area_Name \n",
    "\n",
    "-->\n"
   ]
  },
  {
   "cell_type": "markdown",
   "metadata": {},
   "source": [
    "### Problem 9\n",
    "\n",
    "##### Get the 5 Community Areas with the least total College Enrollment  sorted in ascending order\n"
   ]
  },
  {
   "cell_type": "code",
   "execution_count": 18,
   "metadata": {},
   "outputs": [
    {
     "data": {
      "text/html": [
       "<span style=\"None\">Running query in &#x27;sqlite:///RealWorldData.db&#x27;</span>"
      ],
      "text/plain": [
       "Running query in 'sqlite:///RealWorldData.db'"
      ]
     },
     "metadata": {},
     "output_type": "display_data"
    },
    {
     "data": {
      "text/html": [
       "<table>\n",
       "    <thead>\n",
       "        <tr>\n",
       "            <th>COMMUNITY_AREA_NAME</th>\n",
       "            <th>TOTAL_ENROLLMENT</th>\n",
       "        </tr>\n",
       "    </thead>\n",
       "    <tbody>\n",
       "        <tr>\n",
       "            <td>OAKLAND</td>\n",
       "            <td>140</td>\n",
       "        </tr>\n",
       "        <tr>\n",
       "            <td>FULLER PARK</td>\n",
       "            <td>531</td>\n",
       "        </tr>\n",
       "        <tr>\n",
       "            <td>BURNSIDE</td>\n",
       "            <td>549</td>\n",
       "        </tr>\n",
       "        <tr>\n",
       "            <td>OHARE</td>\n",
       "            <td>786</td>\n",
       "        </tr>\n",
       "        <tr>\n",
       "            <td>LOOP</td>\n",
       "            <td>871</td>\n",
       "        </tr>\n",
       "    </tbody>\n",
       "</table>"
      ],
      "text/plain": [
       "+---------------------+------------------+\n",
       "| COMMUNITY_AREA_NAME | TOTAL_ENROLLMENT |\n",
       "+---------------------+------------------+\n",
       "|       OAKLAND       |       140        |\n",
       "|     FULLER PARK     |       531        |\n",
       "|       BURNSIDE      |       549        |\n",
       "|        OHARE        |       786        |\n",
       "|         LOOP        |       871        |\n",
       "+---------------------+------------------+"
      ]
     },
     "execution_count": 18,
     "metadata": {},
     "output_type": "execute_result"
    }
   ],
   "source": [
    "%%sql\n",
    "SELECT COMMUNITY_AREA_NAME, SUM(COLLEGE_ENROLLMENT) AS TOTAL_ENROLLMENT\n",
    "FROM CHICAGO_PUBLIC_SCHOOLS_DATA\n",
    "GROUP BY COMMUNITY_AREA_NAME\n",
    "ORDER BY TOTAL_ENROLLMENT ASC\n",
    "LIMIT 5"
   ]
  },
  {
   "cell_type": "markdown",
   "metadata": {},
   "source": [
    "Double-click **here** for a hint\n",
    "\n",
    "<!--\n",
    "Order the previous query and limit the number of rows you fetch\n",
    "-->\n"
   ]
  },
  {
   "cell_type": "markdown",
   "metadata": {},
   "source": [
    "Double-click **here** for the solution.\n",
    "\n",
    "<!-- Solution:\n",
    "\n",
    "%sql select Community_Area_Name, sum(College_Enrollment) AS TOTAL_ENROLLMENT \\\n",
    "   from CHICAGO_PUBLIC_SCHOOLS_DATA \\\n",
    "   group by Community_Area_Name \\\n",
    "   order by TOTAL_ENROLLMENT asc \\\n",
    "   LIMIT 5 \n",
    "\n",
    "-->\n"
   ]
  },
  {
   "cell_type": "markdown",
   "metadata": {},
   "source": [
    "### Problem 10\n",
    "\n",
    "##### List 5 schools with lowest safety score.\n"
   ]
  },
  {
   "cell_type": "code",
   "execution_count": 19,
   "metadata": {},
   "outputs": [
    {
     "data": {
      "text/html": [
       "<span style=\"None\">Running query in &#x27;sqlite:///RealWorldData.db&#x27;</span>"
      ],
      "text/plain": [
       "Running query in 'sqlite:///RealWorldData.db'"
      ]
     },
     "metadata": {},
     "output_type": "display_data"
    },
    {
     "data": {
      "text/html": [
       "<table>\n",
       "    <thead>\n",
       "        <tr>\n",
       "            <th>NAME_OF_SCHOOL</th>\n",
       "            <th>SAFETY_SCORE</th>\n",
       "        </tr>\n",
       "    </thead>\n",
       "    <tbody>\n",
       "        <tr>\n",
       "            <td>Edmond Burke Elementary School</td>\n",
       "            <td>1.0</td>\n",
       "        </tr>\n",
       "        <tr>\n",
       "            <td>Luke O'Toole Elementary School</td>\n",
       "            <td>5.0</td>\n",
       "        </tr>\n",
       "        <tr>\n",
       "            <td>George W Tilton Elementary School</td>\n",
       "            <td>6.0</td>\n",
       "        </tr>\n",
       "        <tr>\n",
       "            <td>Foster Park Elementary School</td>\n",
       "            <td>11.0</td>\n",
       "        </tr>\n",
       "        <tr>\n",
       "            <td>Emil G Hirsch Metropolitan High School</td>\n",
       "            <td>13.0</td>\n",
       "        </tr>\n",
       "    </tbody>\n",
       "</table>"
      ],
      "text/plain": [
       "+----------------------------------------+--------------+\n",
       "|             NAME_OF_SCHOOL             | SAFETY_SCORE |\n",
       "+----------------------------------------+--------------+\n",
       "|     Edmond Burke Elementary School     |     1.0      |\n",
       "|     Luke O'Toole Elementary School     |     5.0      |\n",
       "|   George W Tilton Elementary School    |     6.0      |\n",
       "|     Foster Park Elementary School      |     11.0     |\n",
       "| Emil G Hirsch Metropolitan High School |     13.0     |\n",
       "+----------------------------------------+--------------+"
      ]
     },
     "execution_count": 19,
     "metadata": {},
     "output_type": "execute_result"
    }
   ],
   "source": [
    "%%sql\n",
    "SELECT NAME_OF_SCHOOL, SAFETY_SCORE\n",
    "FROM CHICAGO_PUBLIC_SCHOOLS_DATA\n",
    "WHERE SAFETY_SCORE != \"None\"\n",
    "ORDER BY SAFETY_SCORE ASC\n",
    "LIMIT 5"
   ]
  },
  {
   "cell_type": "markdown",
   "metadata": {},
   "source": [
    "Double-click **here** for the solution.\n",
    "\n",
    "<!-- Solution SQLite:\n",
    "\n",
    "%sql SELECT name_of_school, safety_score \\\n",
    "FROM CHICAGO_PUBLIC_SCHOOLS_DATA  where safety_score !='None' \\\n",
    "ORDER BY safety_score \\\n",
    "LIMIT 5\n",
    "\n",
    "-->\n",
    "\n",
    "\n"
   ]
  },
  {
   "cell_type": "markdown",
   "metadata": {},
   "source": [
    "### Problem 11\n",
    "\n",
    "##### Get the hardship index for the community area which has College Enrollment of 4368\n"
   ]
  },
  {
   "cell_type": "code",
   "execution_count": 20,
   "metadata": {},
   "outputs": [
    {
     "data": {
      "text/html": [
       "<span style=\"None\">Running query in &#x27;sqlite:///RealWorldData.db&#x27;</span>"
      ],
      "text/plain": [
       "Running query in 'sqlite:///RealWorldData.db'"
      ]
     },
     "metadata": {},
     "output_type": "display_data"
    },
    {
     "data": {
      "text/html": [
       "<table>\n",
       "    <thead>\n",
       "        <tr>\n",
       "            <th>HARDSHIP_INDEX</th>\n",
       "        </tr>\n",
       "    </thead>\n",
       "    <tbody>\n",
       "        <tr>\n",
       "            <td>6.0</td>\n",
       "        </tr>\n",
       "    </tbody>\n",
       "</table>"
      ],
      "text/plain": [
       "+----------------+\n",
       "| HARDSHIP_INDEX |\n",
       "+----------------+\n",
       "|      6.0       |\n",
       "+----------------+"
      ]
     },
     "execution_count": 20,
     "metadata": {},
     "output_type": "execute_result"
    }
   ],
   "source": [
    "%%sql\n",
    "SELECT HARDSHIP_INDEX FROM CENSUS_DATA CD, CHICAGO_PUBLIC_SCHOOLS_DATA CPS\n",
    "WHERE CD.COMMUNITY_AREA_NUMBER = CPS.COMMUNITY_AREA_NUMBER\n",
    "AND COLLEGE_ENROLLMENT = 4368"
   ]
  },
  {
   "cell_type": "markdown",
   "metadata": {},
   "source": [
    "Double-click **here** for the solution.\n",
    "\n",
    "<!-- Solution:\n",
    "NOTE: For this solution to work the CHICAGO_SOCIOECONOMIC_DATA table \n",
    "      as created in the last lab of Week 3 should already exist\n",
    "\n",
    "%%sql \n",
    "select hardship_index from CENSUS_DATA CD, CHICAGO_PUBLIC_SCHOOLS_DATA CPS \n",
    "where CD.community_area_number = CPS.community_area_number \n",
    "and college_enrollment = 4368\n",
    "\n",
    "\n",
    "-->\n"
   ]
  },
  {
   "cell_type": "markdown",
   "metadata": {},
   "source": [
    "### Problem 12\n",
    "\n",
    "##### Get the hardship index for the community area which has the highest value for College Enrollment\n"
   ]
  },
  {
   "cell_type": "code",
   "execution_count": 21,
   "metadata": {},
   "outputs": [
    {
     "data": {
      "text/html": [
       "<span style=\"None\">Running query in &#x27;sqlite:///RealWorldData.db&#x27;</span>"
      ],
      "text/plain": [
       "Running query in 'sqlite:///RealWorldData.db'"
      ]
     },
     "metadata": {},
     "output_type": "display_data"
    },
    {
     "data": {
      "text/html": [
       "<table>\n",
       "    <thead>\n",
       "        <tr>\n",
       "            <th>COMMUNITY_AREA_NAME</th>\n",
       "            <th>HARDSHIP_INDEX</th>\n",
       "        </tr>\n",
       "    </thead>\n",
       "    <tbody>\n",
       "        <tr>\n",
       "            <td>North Center</td>\n",
       "            <td>6.0</td>\n",
       "        </tr>\n",
       "    </tbody>\n",
       "</table>"
      ],
      "text/plain": [
       "+---------------------+----------------+\n",
       "| COMMUNITY_AREA_NAME | HARDSHIP_INDEX |\n",
       "+---------------------+----------------+\n",
       "|     North Center    |      6.0       |\n",
       "+---------------------+----------------+"
      ]
     },
     "execution_count": 21,
     "metadata": {},
     "output_type": "execute_result"
    }
   ],
   "source": [
    "%%sql\n",
    "SELECT COMMUNITY_AREA_NAME, HARDSHIP_INDEX\n",
    "FROM CENSUS_DATA CD\n",
    "WHERE COMMUNITY_AREA_NUMBER IN (SELECT COMMUNITY_AREA_NUMBER FROM CHICAGO_PUBLIC_SCHOOLS_DATA ORDER BY COLLEGE_ENROLLMENT DESC LIMIT 1)"
   ]
  },
  {
   "cell_type": "markdown",
   "metadata": {},
   "source": [
    "Double-click **here** for the solution.\n",
    "\n",
    "<!-- Solution:\n",
    "NOTE: For this solution to work the CHICAGO_SOCIOECONOMIC_DATA table \n",
    "      as created in the last lab of Week 3 should already exist\n",
    "\n",
    "%sql select community_area_number, community_area_name, hardship_index from CENSUS_DATA \\\n",
    "   where community_area_number in \\\n",
    "   ( select community_area_number from CHICAGO_PUBLIC_SCHOOLS_DATA order by college_enrollment desc limit 1 )\n",
    "-->\n"
   ]
  },
  {
   "cell_type": "markdown",
   "metadata": {},
   "source": [
    "## Summary\n",
    "\n",
    "##### In this lab you learned how to work with a real word dataset using SQL and Python. You learned how to query columns with spaces or special characters in their names and with mixed case names. You also used built in database functions and practiced how to sort, limit, and order result sets, as well as used sub-queries and worked with multiple tables.\n"
   ]
  },
  {
   "cell_type": "markdown",
   "metadata": {},
   "source": [
    "## Author\n",
    "\n",
    "<a href=\"https://www.linkedin.com/in/ravahuja/?utm_medium=Exinfluencer&utm_source=Exinfluencer&utm_content=000026UJ&utm_term=10006555&utm_id=NA-SkillsNetwork-Channel-SkillsNetworkCoursesIBMDeveloperSkillsNetworkDB0201ENSkillsNetwork20127838-2021-01-01\" target=\"_blank\">Rav Ahuja</a>\n",
    "\n",
    "## Change Log\n",
    "\n",
    "| Date (YYYY-MM-DD) | Version | Changed By        | Change Description                        |\n",
    "| ----------------- | ------- | ----------------- | ----------------------------------------- |\n",
    "| 2022-03-04        | 2.2     | Lakshmi Holla     | Made changes in markdown cells |\n",
    "| 2020-11-27        | 2.1     | Sannareddy Ramesh | Modified data sets and added new problems |\n",
    "| 2020-08-28        | 2.0     | Lavanya           | Moved lab to course repo in GitLab        |\n",
    "\n",
    "<hr>\n",
    "\n",
    "## <h3 align=\"center\"> © IBM Corporation 2020. All rights reserved. <h3/>\n"
   ]
  }
 ],
 "metadata": {
  "kernelspec": {
   "display_name": "Python 3 (ipykernel)",
   "language": "python",
   "name": "python3"
  },
  "language_info": {
   "codemirror_mode": {
    "name": "ipython",
    "version": 3
   },
   "file_extension": ".py",
   "mimetype": "text/x-python",
   "name": "python",
   "nbconvert_exporter": "python",
   "pygments_lexer": "ipython3",
   "version": "3.11.4"
  }
 },
 "nbformat": 4,
 "nbformat_minor": 4
}
